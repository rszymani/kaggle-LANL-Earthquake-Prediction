{
 "cells": [
  {
   "cell_type": "code",
   "execution_count": 1,
   "metadata": {
    "collapsed": true
   },
   "outputs": [],
   "source": [
    "import os\n",
    "from sklearn.tree import DecisionTreeRegressor\n",
    "from sklearn.metrics import mean_absolute_error\n",
    "from sklearn.model_selection import train_test_split\n",
    "from sklearn.model_selection import KFold\n",
    "\n",
    "import pandas as pd\n",
    "import numpy as np \n",
    "import matplotlib.pyplot as plt\n",
    "import seaborn as sns\n",
    "from tqdm import tqdm_notebook\n",
    "\n",
    "import lightgbm as lgb\n",
    "\n",
    "import scipy as sp\n",
    "from scipy.fftpack import fft\n",
    "from tsfresh.feature_extraction import feature_calculators\n",
    "\n",
    "\n",
    "import gc\n",
    "%matplotlib inline"
   ]
  },
  {
   "cell_type": "code",
   "execution_count": 2,
   "metadata": {
    "collapsed": false
   },
   "outputs": [
    {
     "name": "stdout",
     "output_type": "stream",
     "text": [
      "CPU times: user 4 µs, sys: 1 µs, total: 5 µs\n",
      "Wall time: 9.06 µs\n"
     ]
    }
   ],
   "source": [
    "%time\n",
    "train_df = pd.read_csv(os.path.join(\"../input\",'train.csv'), dtype={'acoustic_data': np.int16, 'time_to_failure': np.float32})"
   ]
  },
  {
   "cell_type": "code",
   "execution_count": 3,
   "metadata": {
    "collapsed": false
   },
   "outputs": [
    {
     "data": {
      "text/plain": [
       "(629145480, 2)"
      ]
     },
     "execution_count": 3,
     "metadata": {},
     "output_type": "execute_result"
    }
   ],
   "source": [
    "train_df.shape"
   ]
  },
  {
   "cell_type": "code",
   "execution_count": 4,
   "metadata": {
    "collapsed": false
   },
   "outputs": [
    {
     "name": "stdout",
     "output_type": "stream",
     "text": [
      "Number of segments:  4194\n"
     ]
    }
   ],
   "source": [
    "rows = 150000\n",
    "segments = int(np.floor(train_df.shape[0] / rows))\n",
    "print(\"Number of segments: \", segments)"
   ]
  },
  {
   "cell_type": "code",
   "execution_count": 9,
   "metadata": {
    "collapsed": true
   },
   "outputs": [],
   "source": [
    "#Prepare empty frame\n",
    "train_X = pd.DataFrame(index=range(segments), dtype=np.float32)\n",
    "train_y = pd.DataFrame(index=range(segments), dtype=np.float32, columns=['time_to_failure'])"
   ]
  },
  {
   "cell_type": "code",
   "execution_count": 15,
   "metadata": {
    "collapsed": false
   },
   "outputs": [],
   "source": [
    "def create_features(seg_id,seg, X):\n",
    "    xc = seg[\"acoustic_data\"].astype(np.float32)\n",
    "    \n",
    "\n",
    "    X.loc[seg_id,\"num_peaks_1\"] = feature_calculators.number_peaks(xc,1)\n",
    "    X.loc[seg_id,\"num_peaks_5\"] = feature_calculators.number_peaks(xc,5)\n",
    "    X.loc[seg_id,\"num_peaks_10\"] = feature_calculators.number_peaks(xc,10)\n",
    "    \n",
    "    X.loc[seg_id,\"cid_ce_1\"] = feature_calculators.cid_ce(xc, 1)\n",
    "    \n",
    "    X.loc[seg_id,'moment_4'] = sp.stats.moment(xc, 4)\n",
    "    X.loc[seg_id,'moment_2'] = sp.stats.moment(xc, 2)\n",
    "    \n",
    "    X.loc[seg_id,\"range_m1000_0\"] = feature_calculators.range_count(xc, -1000, 0)\n",
    "    X.loc[seg_id,\"c_5\"] = feature_calculators.c3(xc, 5)\n",
    "    X.loc[seg_id,\"mean\"] = xc.mean()\n",
    "    X.loc[seg_id,\"binned_entropy_5\"] = feature_calculators.binned_entropy(xc, 5)\n",
    "    X.loc[seg_id,\"autocorrelation_10\"] = feature_calculators.autocorrelation(xc, 10)\n",
    "    \n",
    "    \n",
    "    window_size = 10\n",
    "    xc_rolled = xc.rolling(window_size)\n",
    "    xc_rolled_var = xc_rolled.var().dropna()\n",
    "    xc_rolled_mean = xc_rolled.mean().dropna()\n",
    "        \n",
    "    window_str = str(window_size)\n",
    "\n",
    "    X.loc[seg_id,\"rollingMean\"+window_str+\"_quantile_4\"] = xc_rolled_mean.quantile(0.04)\n",
    "    rolled_var_quantiles = xc_rolled_var.quantile([0.01,0.04])\n",
    "    X.loc[seg_id,\"rollingVar\"+window_str+\"_quantile_4\"] = rolled_var_quantiles[0.04]\n",
    "    X.loc[seg_id,\"rollingVar\"+window_str+\"_quantile_1\"] = rolled_var_quantiles[0.01]\n",
    "    \n",
    "    window_size = 10\n",
    "    window_str = str(window_size)\n",
    "    xc_rolled = xc.rolling(300)\n",
    "    xc_rolled_var = xc_rolled.var().dropna()\n",
    "    X.loc[seg_id,\"rollingVar\"+window_str+\"_quantile_2\"] = xc_rolled_var.quantile(0.02)"
   ]
  },
  {
   "cell_type": "code",
   "execution_count": 16,
   "metadata": {
    "collapsed": false
   },
   "outputs": [],
   "source": [
    "#create features from train\n",
    "for seg_id in tqdm_notebook(range(segments)):\n",
    "    seg = train_df.iloc[seg_id*rows:seg_id*rows+rows]\n",
    "    create_features(seg_id, seg,train_X)\n",
    "    train_y.loc[seg_id, 'time_to_failure'] = seg['time_to_failure'].values[-1]    "
   ]
  },
  {
   "cell_type": "code",
   "execution_count": null,
   "metadata": {
    "collapsed": false
   },
   "outputs": [],
   "source": [
    "#create features from test\n",
    "segment_names = [file for file in os.listdir(\"../input\") if file.startswith(\"seg\")]\n",
    "test_df = pd.DataFrame(index=segment_names, dtype=np.float32)\n",
    "test_df.index = test_df.index.str[:-4]\n",
    "for file in tqdm_notebook(segment_names):\n",
    "    seg_id = file[:-4]\n",
    "    segment = pd.read_csv(os.path.join(\"../input\",file),dtype={'acoustic_data': np.int16})\n",
    "    create_features(seg_id,segment,test_df)\n"
   ]
  },
  {
   "cell_type": "code",
   "execution_count": 12,
   "metadata": {
    "collapsed": false
   },
   "outputs": [
    {
     "data": {
      "text/html": [
       "<div>\n",
       "<style scoped>\n",
       "    .dataframe tbody tr th:only-of-type {\n",
       "        vertical-align: middle;\n",
       "    }\n",
       "\n",
       "    .dataframe tbody tr th {\n",
       "        vertical-align: top;\n",
       "    }\n",
       "\n",
       "    .dataframe thead th {\n",
       "        text-align: right;\n",
       "    }\n",
       "</style>\n",
       "<table border=\"1\" class=\"dataframe\">\n",
       "  <thead>\n",
       "    <tr style=\"text-align: right;\">\n",
       "      <th></th>\n",
       "      <th>num_peaks_1</th>\n",
       "      <th>num_peaks_5</th>\n",
       "      <th>num_peaks_10</th>\n",
       "      <th>cid_ce_1</th>\n",
       "      <th>moment_4</th>\n",
       "      <th>moment_2</th>\n",
       "      <th>range_m1000_0</th>\n",
       "      <th>c_5</th>\n",
       "      <th>mean</th>\n",
       "      <th>binned_entropy_5</th>\n",
       "      <th>autocorrelation_10</th>\n",
       "      <th>rollingMean10_quantile_4</th>\n",
       "      <th>rollingVar10_quantile_4</th>\n",
       "      <th>rollingVar10_quantile_1</th>\n",
       "      <th>rollingVar10_quantile_2</th>\n",
       "    </tr>\n",
       "  </thead>\n",
       "  <tbody>\n",
       "    <tr>\n",
       "      <th>0</th>\n",
       "      <td>31523.0</td>\n",
       "      <td>8640.0</td>\n",
       "      <td>5470.0</td>\n",
       "      <td>257.823936</td>\n",
       "      <td>24823.312530</td>\n",
       "      <td>26.021110</td>\n",
       "      <td>11570.0</td>\n",
       "      <td>49.297453</td>\n",
       "      <td>4.884113</td>\n",
       "      <td>0.050021</td>\n",
       "      <td>-0.469692</td>\n",
       "      <td>1.3</td>\n",
       "      <td>2.488889</td>\n",
       "      <td>1.600000</td>\n",
       "      <td>6.413144</td>\n",
       "    </tr>\n",
       "    <tr>\n",
       "      <th>1</th>\n",
       "      <td>31292.0</td>\n",
       "      <td>8596.0</td>\n",
       "      <td>5474.0</td>\n",
       "      <td>216.043788</td>\n",
       "      <td>191770.733203</td>\n",
       "      <td>43.412309</td>\n",
       "      <td>13365.0</td>\n",
       "      <td>35.327549</td>\n",
       "      <td>4.725767</td>\n",
       "      <td>0.040129</td>\n",
       "      <td>-0.450367</td>\n",
       "      <td>0.7</td>\n",
       "      <td>2.500000</td>\n",
       "      <td>1.655556</td>\n",
       "      <td>6.417793</td>\n",
       "    </tr>\n",
       "    <tr>\n",
       "      <th>2</th>\n",
       "      <td>30706.0</td>\n",
       "      <td>8494.0</td>\n",
       "      <td>5549.0</td>\n",
       "      <td>208.748440</td>\n",
       "      <td>86141.411280</td>\n",
       "      <td>48.544298</td>\n",
       "      <td>14251.0</td>\n",
       "      <td>30.544036</td>\n",
       "      <td>4.906393</td>\n",
       "      <td>0.132877</td>\n",
       "      <td>-0.480152</td>\n",
       "      <td>0.0</td>\n",
       "      <td>2.622222</td>\n",
       "      <td>1.733333</td>\n",
       "      <td>6.739086</td>\n",
       "    </tr>\n",
       "    <tr>\n",
       "      <th>3</th>\n",
       "      <td>31320.0</td>\n",
       "      <td>8592.0</td>\n",
       "      <td>5458.0</td>\n",
       "      <td>207.457707</td>\n",
       "      <td>274489.577511</td>\n",
       "      <td>47.917990</td>\n",
       "      <td>12609.0</td>\n",
       "      <td>57.539696</td>\n",
       "      <td>4.902240</td>\n",
       "      <td>0.033637</td>\n",
       "      <td>-0.374296</td>\n",
       "      <td>0.8</td>\n",
       "      <td>2.544444</td>\n",
       "      <td>1.611111</td>\n",
       "      <td>6.554504</td>\n",
       "    </tr>\n",
       "    <tr>\n",
       "      <th>4</th>\n",
       "      <td>31302.0</td>\n",
       "      <td>8483.0</td>\n",
       "      <td>5381.0</td>\n",
       "      <td>194.230870</td>\n",
       "      <td>159056.876454</td>\n",
       "      <td>53.305855</td>\n",
       "      <td>12822.0</td>\n",
       "      <td>69.801620</td>\n",
       "      <td>4.908720</td>\n",
       "      <td>0.082438</td>\n",
       "      <td>-0.385905</td>\n",
       "      <td>0.4</td>\n",
       "      <td>2.500000</td>\n",
       "      <td>1.611111</td>\n",
       "      <td>6.401906</td>\n",
       "    </tr>\n",
       "  </tbody>\n",
       "</table>\n",
       "</div>"
      ],
      "text/plain": [
       "   num_peaks_1  num_peaks_5  num_peaks_10    cid_ce_1       moment_4  \\\n",
       "0      31523.0       8640.0        5470.0  257.823936   24823.312530   \n",
       "1      31292.0       8596.0        5474.0  216.043788  191770.733203   \n",
       "2      30706.0       8494.0        5549.0  208.748440   86141.411280   \n",
       "3      31320.0       8592.0        5458.0  207.457707  274489.577511   \n",
       "4      31302.0       8483.0        5381.0  194.230870  159056.876454   \n",
       "\n",
       "    moment_2  range_m1000_0        c_5      mean  binned_entropy_5  \\\n",
       "0  26.021110        11570.0  49.297453  4.884113          0.050021   \n",
       "1  43.412309        13365.0  35.327549  4.725767          0.040129   \n",
       "2  48.544298        14251.0  30.544036  4.906393          0.132877   \n",
       "3  47.917990        12609.0  57.539696  4.902240          0.033637   \n",
       "4  53.305855        12822.0  69.801620  4.908720          0.082438   \n",
       "\n",
       "   autocorrelation_10  rollingMean10_quantile_4  rollingVar10_quantile_4  \\\n",
       "0           -0.469692                       1.3                 2.488889   \n",
       "1           -0.450367                       0.7                 2.500000   \n",
       "2           -0.480152                       0.0                 2.622222   \n",
       "3           -0.374296                       0.8                 2.544444   \n",
       "4           -0.385905                       0.4                 2.500000   \n",
       "\n",
       "   rollingVar10_quantile_1  rollingVar10_quantile_2  \n",
       "0                 1.600000                 6.413144  \n",
       "1                 1.655556                 6.417793  \n",
       "2                 1.733333                 6.739086  \n",
       "3                 1.611111                 6.554504  \n",
       "4                 1.611111                 6.401906  "
      ]
     },
     "execution_count": 12,
     "metadata": {},
     "output_type": "execute_result"
    }
   ],
   "source": [
    "train_X.head()"
   ]
  },
  {
   "cell_type": "code",
   "execution_count": 13,
   "metadata": {
    "collapsed": false
   },
   "outputs": [
    {
     "data": {
      "text/html": [
       "<div>\n",
       "<style scoped>\n",
       "    .dataframe tbody tr th:only-of-type {\n",
       "        vertical-align: middle;\n",
       "    }\n",
       "\n",
       "    .dataframe tbody tr th {\n",
       "        vertical-align: top;\n",
       "    }\n",
       "\n",
       "    .dataframe thead th {\n",
       "        text-align: right;\n",
       "    }\n",
       "</style>\n",
       "<table border=\"1\" class=\"dataframe\">\n",
       "  <thead>\n",
       "    <tr style=\"text-align: right;\">\n",
       "      <th></th>\n",
       "      <th>num_peaks_1</th>\n",
       "      <th>num_peaks_5</th>\n",
       "      <th>num_peaks_10</th>\n",
       "      <th>cid_ce_1</th>\n",
       "      <th>moment_4</th>\n",
       "      <th>moment_2</th>\n",
       "      <th>range_m1000_0</th>\n",
       "      <th>c_5</th>\n",
       "      <th>whole_mean</th>\n",
       "      <th>rollingVar_4_quantile10</th>\n",
       "      <th>autocorrelation_10</th>\n",
       "      <th>rollingMean_4_quantile10</th>\n",
       "      <th>rollingVar_2_quantile300</th>\n",
       "      <th>rollingVar_1_quantile10</th>\n",
       "      <th>binned_entropy_5</th>\n",
       "    </tr>\n",
       "  </thead>\n",
       "  <tbody>\n",
       "    <tr>\n",
       "      <th>0</th>\n",
       "      <td>31523.0</td>\n",
       "      <td>8640.0</td>\n",
       "      <td>5470.0</td>\n",
       "      <td>257.823936</td>\n",
       "      <td>24823.312530</td>\n",
       "      <td>26.021110</td>\n",
       "      <td>11570.0</td>\n",
       "      <td>49.297453</td>\n",
       "      <td>4.884113</td>\n",
       "      <td>2.488889</td>\n",
       "      <td>-0.469692</td>\n",
       "      <td>1.3</td>\n",
       "      <td>6.413144</td>\n",
       "      <td>1.600000</td>\n",
       "      <td>0.050021</td>\n",
       "    </tr>\n",
       "    <tr>\n",
       "      <th>1</th>\n",
       "      <td>31292.0</td>\n",
       "      <td>8596.0</td>\n",
       "      <td>5474.0</td>\n",
       "      <td>216.043788</td>\n",
       "      <td>191770.733203</td>\n",
       "      <td>43.412309</td>\n",
       "      <td>13365.0</td>\n",
       "      <td>35.327549</td>\n",
       "      <td>4.725767</td>\n",
       "      <td>2.500000</td>\n",
       "      <td>-0.450367</td>\n",
       "      <td>0.7</td>\n",
       "      <td>6.417793</td>\n",
       "      <td>1.655556</td>\n",
       "      <td>0.040129</td>\n",
       "    </tr>\n",
       "    <tr>\n",
       "      <th>2</th>\n",
       "      <td>30706.0</td>\n",
       "      <td>8494.0</td>\n",
       "      <td>5549.0</td>\n",
       "      <td>208.748440</td>\n",
       "      <td>86141.411280</td>\n",
       "      <td>48.544298</td>\n",
       "      <td>14251.0</td>\n",
       "      <td>30.544036</td>\n",
       "      <td>4.906393</td>\n",
       "      <td>2.622222</td>\n",
       "      <td>-0.480152</td>\n",
       "      <td>0.0</td>\n",
       "      <td>6.739086</td>\n",
       "      <td>1.733333</td>\n",
       "      <td>0.132877</td>\n",
       "    </tr>\n",
       "    <tr>\n",
       "      <th>3</th>\n",
       "      <td>31320.0</td>\n",
       "      <td>8592.0</td>\n",
       "      <td>5458.0</td>\n",
       "      <td>207.457707</td>\n",
       "      <td>274489.577511</td>\n",
       "      <td>47.917990</td>\n",
       "      <td>12609.0</td>\n",
       "      <td>57.539696</td>\n",
       "      <td>4.902240</td>\n",
       "      <td>2.544444</td>\n",
       "      <td>-0.374296</td>\n",
       "      <td>0.8</td>\n",
       "      <td>6.554504</td>\n",
       "      <td>1.611111</td>\n",
       "      <td>0.033637</td>\n",
       "    </tr>\n",
       "    <tr>\n",
       "      <th>4</th>\n",
       "      <td>31302.0</td>\n",
       "      <td>8483.0</td>\n",
       "      <td>5381.0</td>\n",
       "      <td>194.230870</td>\n",
       "      <td>159056.876454</td>\n",
       "      <td>53.305855</td>\n",
       "      <td>12822.0</td>\n",
       "      <td>69.801620</td>\n",
       "      <td>4.908720</td>\n",
       "      <td>2.500000</td>\n",
       "      <td>-0.385905</td>\n",
       "      <td>0.4</td>\n",
       "      <td>6.401906</td>\n",
       "      <td>1.611111</td>\n",
       "      <td>0.082438</td>\n",
       "    </tr>\n",
       "  </tbody>\n",
       "</table>\n",
       "</div>"
      ],
      "text/plain": [
       "   num_peaks_1  num_peaks_5  num_peaks_10    cid_ce_1       moment_4  \\\n",
       "0      31523.0       8640.0        5470.0  257.823936   24823.312530   \n",
       "1      31292.0       8596.0        5474.0  216.043788  191770.733203   \n",
       "2      30706.0       8494.0        5549.0  208.748440   86141.411280   \n",
       "3      31320.0       8592.0        5458.0  207.457707  274489.577511   \n",
       "4      31302.0       8483.0        5381.0  194.230870  159056.876454   \n",
       "\n",
       "    moment_2  range_m1000_0        c_5  whole_mean  rollingVar_4_quantile10  \\\n",
       "0  26.021110        11570.0  49.297453    4.884113                 2.488889   \n",
       "1  43.412309        13365.0  35.327549    4.725767                 2.500000   \n",
       "2  48.544298        14251.0  30.544036    4.906393                 2.622222   \n",
       "3  47.917990        12609.0  57.539696    4.902240                 2.544444   \n",
       "4  53.305855        12822.0  69.801620    4.908720                 2.500000   \n",
       "\n",
       "   autocorrelation_10  rollingMean_4_quantile10  rollingVar_2_quantile300  \\\n",
       "0           -0.469692                       1.3                  6.413144   \n",
       "1           -0.450367                       0.7                  6.417793   \n",
       "2           -0.480152                       0.0                  6.739086   \n",
       "3           -0.374296                       0.8                  6.554504   \n",
       "4           -0.385905                       0.4                  6.401906   \n",
       "\n",
       "   rollingVar_1_quantile10  binned_entropy_5  \n",
       "0                 1.600000          0.050021  \n",
       "1                 1.655556          0.040129  \n",
       "2                 1.733333          0.132877  \n",
       "3                 1.611111          0.033637  \n",
       "4                 1.611111          0.082438  "
      ]
     },
     "execution_count": 13,
     "metadata": {},
     "output_type": "execute_result"
    }
   ],
   "source": [
    "pd.read_csv(os.path.join(\"../extracted_feat/\",\"train_x_89_no_eq.csv\")).head()"
   ]
  },
  {
   "cell_type": "code",
   "execution_count": 16,
   "metadata": {
    "collapsed": true
   },
   "outputs": [],
   "source": [
    "n_fold = 5\n",
    "folds = KFold(n_splits=n_fold, shuffle=True, random_state=42)\n",
    "params = {\n",
    "    'lambda_l1': 0.012465994599126015, \n",
    "    'bagging_freq': 15, \n",
    "    'verbose': -1, \n",
    "    'min_data_in_leaf': 5, \n",
    "    'feature_fraction': 0.7143153769050614, \n",
    "    'objective': 'MAE',\n",
    "    'lambda_l2': 0.055052283158846985, \n",
    "    'metric': 'MAE', \n",
    "    'bagging_fraction': 0.4871803105884792,\n",
    "    'max_depth': -1, \n",
    "    'learning_rate': 0.007017896834582354, \n",
    "    'boosting_type': 'gbdt', \n",
    "    'num_leaves': 9\n",
    "}"
   ]
  },
  {
   "cell_type": "code",
   "execution_count": 17,
   "metadata": {
    "collapsed": false
   },
   "outputs": [
    {
     "name": "stdout",
     "output_type": "stream",
     "text": [
      "Training until validation scores don't improve for 1000 rounds.\n",
      "[1000]\ttraining's l1: 1.82506\tvalid_1's l1: 2.02927\n",
      "[2000]\ttraining's l1: 1.71562\tvalid_1's l1: 2.03225\n",
      "Early stopping, best iteration is:\n",
      "[1755]\ttraining's l1: 1.73636\tvalid_1's l1: 2.02764\n",
      "Training until validation scores don't improve for 1000 rounds.\n",
      "[1000]\ttraining's l1: 1.82308\tvalid_1's l1: 2.06293\n",
      "[2000]\ttraining's l1: 1.71012\tvalid_1's l1: 2.05827\n",
      "Early stopping, best iteration is:\n",
      "[1717]\ttraining's l1: 1.73559\tvalid_1's l1: 2.05458\n",
      "Training until validation scores don't improve for 1000 rounds.\n",
      "[1000]\ttraining's l1: 1.83842\tvalid_1's l1: 2.00059\n",
      "[2000]\ttraining's l1: 1.73393\tvalid_1's l1: 1.99801\n",
      "Early stopping, best iteration is:\n",
      "[1932]\ttraining's l1: 1.74027\tvalid_1's l1: 1.99597\n",
      "Training until validation scores don't improve for 1000 rounds.\n",
      "[1000]\ttraining's l1: 1.84144\tvalid_1's l1: 1.95925\n",
      "Early stopping, best iteration is:\n",
      "[857]\ttraining's l1: 1.86258\tvalid_1's l1: 1.95661\n",
      "Training until validation scores don't improve for 1000 rounds.\n",
      "[1000]\ttraining's l1: 1.82362\tvalid_1's l1: 2.04447\n",
      "[2000]\ttraining's l1: 1.70618\tvalid_1's l1: 2.04434\n",
      "Early stopping, best iteration is:\n",
      "[1214]\ttraining's l1: 1.79382\tvalid_1's l1: 2.0409\n"
     ]
    }
   ],
   "source": [
    "def train_lgb(train_X,train_y,test_df,params,folds):\n",
    "    features_importance = pd.DataFrame({\"features\":train_X.columns,\n",
    "                                        \"importance\":np.zeros(train_X.columns.shape[0])})\n",
    "    predictions = pd.DataFrame({\"seg_id\":test_df.index,\"time_to_failure\":np.zeros(test_df.shape[0])})\n",
    "    oof = np.zeros(train_X.shape[0])\n",
    "\n",
    "    for train_idx,val_idx in folds.split(train_X,train_y):\n",
    "        X_train,y_train = train_X.iloc[train_idx],train_y.iloc[train_idx]\n",
    "        X_val,y_val = train_X.iloc[val_idx],train_y.iloc[val_idx]\n",
    "\n",
    "        model = lgb.LGBMRegressor(**params, n_estimators = 20000,n_jobs=-1)\n",
    "        model.fit(X_train,y_train,\n",
    "                  eval_set=[(X_train,y_train),(X_val,y_val)], \n",
    "                  verbose=1000,\n",
    "                  early_stopping_rounds=1000)\n",
    "\n",
    "        oof[val_idx] = model.predict(X_val, num_iteration=model.best_iteration_)\n",
    "\n",
    "        features_importance[\"importance\"] += model.feature_importances_\n",
    "        predictions[\"time_to_failure\"] += model.predict(test_df, num_iteration=model.best_iteration_)\n",
    "    return oof,predictions,features_importance\n",
    "\n",
    "oof,predictions,features_importance = train_lgb(train_X,train_y,test_df,params,folds)"
   ]
  },
  {
   "cell_type": "code",
   "execution_count": 18,
   "metadata": {
    "collapsed": false
   },
   "outputs": [
    {
     "data": {
      "text/plain": [
       "2.0151349491722423"
      ]
     },
     "execution_count": 18,
     "metadata": {},
     "output_type": "execute_result"
    }
   ],
   "source": [
    "mean_absolute_error(train_y,oof)"
   ]
  },
  {
   "cell_type": "code",
   "execution_count": 19,
   "metadata": {
    "collapsed": false
   },
   "outputs": [
    {
     "data": {
      "image/png": "[encoded data removed]",
      "text/plain": [
       "<matplotlib.figure.Figure at 0x7f81e905a438>"
      ]
     },
     "metadata": {},
     "output_type": "display_data"
    }
   ],
   "source": [
    "features_importance[\"importance\"] = features_importance[\"importance\"]/5\n",
    "predictions[\"time_to_failure\"] = predictions[\"time_to_failure\"]/5\n",
    "\n",
    "plt.figure(figsize=(10,10))\n",
    "ax = sns.barplot(x=\"importance\", y=\"features\", data=features_importance.sort_values(by=\"importance\",ascending=False))"
   ]
  },
  {
   "cell_type": "code",
   "execution_count": 25,
   "metadata": {
    "collapsed": false
   },
   "outputs": [
    {
     "data": {
      "text/html": [
       "<div>\n",
       "<style scoped>\n",
       "    .dataframe tbody tr th:only-of-type {\n",
       "        vertical-align: middle;\n",
       "    }\n",
       "\n",
       "    .dataframe tbody tr th {\n",
       "        vertical-align: top;\n",
       "    }\n",
       "\n",
       "    .dataframe thead th {\n",
       "        text-align: right;\n",
       "    }\n",
       "</style>\n",
       "<table border=\"1\" class=\"dataframe\">\n",
       "  <thead>\n",
       "    <tr style=\"text-align: right;\">\n",
       "      <th></th>\n",
       "      <th>seg_id</th>\n",
       "      <th>time_to_failure</th>\n",
       "    </tr>\n",
       "  </thead>\n",
       "  <tbody>\n",
       "    <tr>\n",
       "      <th>1306</th>\n",
       "      <td>seg_9e7dff</td>\n",
       "      <td>3.769938</td>\n",
       "    </tr>\n",
       "  </tbody>\n",
       "</table>\n",
       "</div>"
      ],
      "text/plain": [
       "          seg_id  time_to_failure\n",
       "1306  seg_9e7dff         3.769938"
      ]
     },
     "execution_count": 25,
     "metadata": {},
     "output_type": "execute_result"
    }
   ],
   "source": [
    "predictions[predictions[\"seg_id\"]==\"seg_9e7dff\"]"
   ]
  },
  {
   "cell_type": "code",
   "execution_count": 26,
   "metadata": {
    "collapsed": false
   },
   "outputs": [],
   "source": [
    "predictions.to_csv(\"../submissions/submission_lgb_15_col.csv\",index=False)\n",
    "# pd.DataFrame(oof).to_csv(\"../oof/oof_lgb_15_col.csv\",index=False)"
   ]
  },
  {
   "cell_type": "code",
   "execution_count": null,
   "metadata": {
    "collapsed": true
   },
   "outputs": [],
   "source": []
  }
 ],
 "metadata": {
  "kernelspec": {
   "display_name": "Python 3",
   "language": "python",
   "name": "python3"
  },
  "language_info": {
   "codemirror_mode": {
    "name": "ipython",
    "version": 3
   },
   "file_extension": ".py",
   "mimetype": "text/x-python",
   "name": "python",
   "nbconvert_exporter": "python",
   "pygments_lexer": "ipython3",
   "version": "3.5.2"
  }
 },
 "nbformat": 4,
 "nbformat_minor": 0
}
