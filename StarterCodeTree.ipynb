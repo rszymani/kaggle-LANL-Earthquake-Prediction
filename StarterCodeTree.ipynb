{
 "cells": [
  {
   "cell_type": "code",
   "execution_count": 1,
   "metadata": {
    "collapsed": true
   },
   "outputs": [],
   "source": [
    "import os\n",
    "from sklearn.tree import DecisionTreeRegressor\n",
    "from sklearn.metrics import mean_absolute_error\n",
    "from sklearn.model_selection import train_test_split\n",
    "from sklearn.preprocessing import StandardScaler\n",
    "from sklearn.model_selection import KFold\n",
    "\n",
    "import pandas as pd\n",
    "import numpy as np \n",
    "import matplotlib.pyplot as plt\n",
    "import seaborn as sns\n",
    "from tqdm import tqdm_notebook\n",
    "from sklearn.tree import export_graphviz\n",
    "import lightgbm as lgb\n",
    "from scipy.fftpack import fft\n",
    "\n",
    "import gc\n",
    "%matplotlib inline"
   ]
  },
  {
   "cell_type": "code",
   "execution_count": 2,
   "metadata": {
    "collapsed": false
   },
   "outputs": [
    {
     "name": "stdout",
     "output_type": "stream",
     "text": [
      "CPU times: user 3 µs, sys: 1e+03 ns, total: 4 µs\n",
      "Wall time: 10 µs\n"
     ]
    }
   ],
   "source": [
    "%time\n",
    "train_df = pd.read_csv(os.path.join(\"../input\",'train.csv'), dtype={'acoustic_data': np.int16, 'time_to_failure': np.float32})"
   ]
  },
  {
   "cell_type": "code",
   "execution_count": 3,
   "metadata": {
    "collapsed": false
   },
   "outputs": [
    {
     "data": {
      "text/plain": [
       "(629145480, 2)"
      ]
     },
     "execution_count": 3,
     "metadata": {},
     "output_type": "execute_result"
    }
   ],
   "source": [
    "train_df.shape"
   ]
  },
  {
   "cell_type": "code",
   "execution_count": 4,
   "metadata": {
    "collapsed": false,
    "scrolled": true
   },
   "outputs": [
    {
     "name": "stdout",
     "output_type": "stream",
     "text": [
      "Number of segments:  4194\n"
     ]
    }
   ],
   "source": [
    "rows = 150000\n",
    "segments = int(np.floor(train_df.shape[0] / rows))\n",
    "print(\"Number of segments: \", segments)"
   ]
  },
  {
   "cell_type": "code",
   "execution_count": 5,
   "metadata": {
    "collapsed": false
   },
   "outputs": [],
   "source": [
    "train_X = pd.DataFrame(index=range(segments), dtype=np.float64)\n",
    "train_y = pd.DataFrame(index=range(segments), dtype=np.float64, columns=['time_to_failure'])"
   ]
  },
  {
   "cell_type": "code",
   "execution_count": 9,
   "metadata": {
    "collapsed": false
   },
   "outputs": [],
   "source": [
    "def add_statistics(seg_id,feat_name,X,xc,ws=\"\"):\n",
    "    X[seg_id,feat_name + \"_mean\"+ws] = xc.mean()\n",
    "    X[seg_id,feat_name + \"_var\"+ws] = xc.var()\n",
    "    X[seg_id,feat_name + \"_min\"+ws] = xc.min()\n",
    "    X[seg_id,feat_name + \"_max\"+ws] = xc.max()\n",
    "    X[seg_id,feat_name + \"_kurt\"+ws] = xc.kurt()\n",
    "    X[seg_id,feat_name + \"_skew\"+ws] = xc.skew()\n",
    "    \n",
    "def create_features(seg_id,seg, X):\n",
    "    xc = seg[\"acoustic_data\"]\n",
    "    \n",
    "    fftxc = fft(xc)\n",
    "    X.loc[seg_id,\"fft_mean\"] = np.abs(fftxc).mean()\n",
    "    X.loc[seg_id,\"fft_max\"] = np.abs(fftxc).max()\n",
    "    X.loc[seg_id,\"fft_min\"] = np.abs(fftxc).min()\n",
    "    \n",
    "    X.loc[seg_id,\"25_quantile\"] = xc.quantile(0.25)\n",
    "    X.loc[seg_id,\"50_quantile\"] = xc.quantile(0.50)\n",
    "    X.loc[seg_id,\"75_quantile\"] = xc.quantile(0.75)\n",
    "    X.loc[seg_id,\"1_quantile\"] = xc.quantile(0.01)\n",
    "    X.loc[seg_id,\"99_quantile\"] = xc.quantile(0.99)\n",
    "    \n",
    "    xc_splitted = np.array_split(xc, 4)\n",
    "\n",
    "    add_statistics(seg_id,\"1_part\",X,xc_splitted[0])\n",
    "    add_statistics(seg_id,\"2_part\",X,xc_splitted[1])\n",
    "    add_statistics(seg_id,\"3_part\",X,xc_splitted[2])\n",
    "    add_statistics(seg_id,\"4_part\",X,xc_splitted[3])\n",
    "\n",
    "    add_statistics(seg_id,\"seg\",X,xc)\n",
    "  \n",
    "    \n",
    "    window_sizes = [20,100,500,1000]\n",
    "    for window_size in window_sizes:\n",
    "        xc_rolled = xc.rolling(window_size)\n",
    "        xc_rolled_mean = xc_rolled.mean().dropna()\n",
    "        xc_rolled_var = xc_rolled.var().dropna()\n",
    "        ws = str(window_size)\n",
    "        \n",
    "        add_statistics(seg_id,\"rollingMean\",X,xc_rolled_mean,ws=ws)\n",
    "        add_statistics(seg_id,\"rollingVar\",X,xc_rolled_var,ws=ws)"
   ]
  },
  {
   "cell_type": "code",
   "execution_count": 10,
   "metadata": {
    "collapsed": false
   },
   "outputs": [
    {
     "ename": "KeyboardInterrupt",
     "evalue": "",
     "output_type": "error",
     "traceback": [
      "\u001b[1;31m---------------------------------------------------------------------------\u001b[0m",
      "\u001b[1;31mKeyboardInterrupt\u001b[0m                         Traceback (most recent call last)",
      "\u001b[1;32m<ipython-input-10-1ea2062e7213>\u001b[0m in \u001b[0;36m<module>\u001b[1;34m()\u001b[0m\n\u001b[0;32m      1\u001b[0m \u001b[1;32mfor\u001b[0m \u001b[0mseg_id\u001b[0m \u001b[1;32min\u001b[0m \u001b[0mtqdm_notebook\u001b[0m\u001b[1;33m(\u001b[0m\u001b[0mrange\u001b[0m\u001b[1;33m(\u001b[0m\u001b[0msegments\u001b[0m\u001b[1;33m)\u001b[0m\u001b[1;33m)\u001b[0m\u001b[1;33m:\u001b[0m\u001b[1;33m\u001b[0m\u001b[0m\n\u001b[0;32m      2\u001b[0m     \u001b[0mseg\u001b[0m \u001b[1;33m=\u001b[0m \u001b[0mtrain_df\u001b[0m\u001b[1;33m.\u001b[0m\u001b[0miloc\u001b[0m\u001b[1;33m[\u001b[0m\u001b[0mseg_id\u001b[0m\u001b[1;33m*\u001b[0m\u001b[0mrows\u001b[0m\u001b[1;33m:\u001b[0m\u001b[0mseg_id\u001b[0m\u001b[1;33m*\u001b[0m\u001b[0mrows\u001b[0m\u001b[1;33m+\u001b[0m\u001b[0mrows\u001b[0m\u001b[1;33m]\u001b[0m\u001b[1;33m\u001b[0m\u001b[0m\n\u001b[1;32m----> 3\u001b[1;33m     \u001b[0mcreate_features\u001b[0m\u001b[1;33m(\u001b[0m\u001b[0mseg_id\u001b[0m\u001b[1;33m,\u001b[0m \u001b[0mseg\u001b[0m\u001b[1;33m,\u001b[0m\u001b[0mtrain_X\u001b[0m\u001b[1;33m)\u001b[0m\u001b[1;33m\u001b[0m\u001b[0m\n\u001b[0m\u001b[0;32m      4\u001b[0m     \u001b[0mtrain_y\u001b[0m\u001b[1;33m.\u001b[0m\u001b[0mloc\u001b[0m\u001b[1;33m[\u001b[0m\u001b[0mseg_id\u001b[0m\u001b[1;33m,\u001b[0m \u001b[1;34m'time_to_failure'\u001b[0m\u001b[1;33m]\u001b[0m \u001b[1;33m=\u001b[0m \u001b[0mseg\u001b[0m\u001b[1;33m[\u001b[0m\u001b[1;34m'time_to_failure'\u001b[0m\u001b[1;33m]\u001b[0m\u001b[1;33m.\u001b[0m\u001b[0mvalues\u001b[0m\u001b[1;33m[\u001b[0m\u001b[1;33m-\u001b[0m\u001b[1;36m1\u001b[0m\u001b[1;33m]\u001b[0m\u001b[1;33m\u001b[0m\u001b[0m\n\u001b[0;32m      5\u001b[0m \u001b[1;33m\u001b[0m\u001b[0m\n",
      "\u001b[1;32m<ipython-input-9-e0b100b26444>\u001b[0m in \u001b[0;36mcreate_features\u001b[1;34m(seg_id, seg, X)\u001b[0m\n\u001b[0;32m     53\u001b[0m         \u001b[0mws\u001b[0m \u001b[1;33m=\u001b[0m \u001b[0mstr\u001b[0m\u001b[1;33m(\u001b[0m\u001b[0mwindow_size\u001b[0m\u001b[1;33m)\u001b[0m\u001b[1;33m\u001b[0m\u001b[0m\n\u001b[0;32m     54\u001b[0m \u001b[1;33m\u001b[0m\u001b[0m\n\u001b[1;32m---> 55\u001b[1;33m         \u001b[0madd_statistics\u001b[0m\u001b[1;33m(\u001b[0m\u001b[0mseg_id\u001b[0m\u001b[1;33m,\u001b[0m\u001b[1;34m\"rollingMean\"\u001b[0m\u001b[1;33m,\u001b[0m\u001b[0mX\u001b[0m\u001b[1;33m,\u001b[0m\u001b[0mxc_rolled_mean\u001b[0m\u001b[1;33m,\u001b[0m\u001b[0mws\u001b[0m\u001b[1;33m=\u001b[0m\u001b[0mws\u001b[0m\u001b[1;33m)\u001b[0m\u001b[1;33m\u001b[0m\u001b[0m\n\u001b[0m\u001b[0;32m     56\u001b[0m         \u001b[0madd_statistics\u001b[0m\u001b[1;33m(\u001b[0m\u001b[0mseg_id\u001b[0m\u001b[1;33m,\u001b[0m\u001b[1;34m\"rollingVar\"\u001b[0m\u001b[1;33m,\u001b[0m\u001b[0mX\u001b[0m\u001b[1;33m,\u001b[0m\u001b[0mxc_rolled_var\u001b[0m\u001b[1;33m,\u001b[0m\u001b[0mws\u001b[0m\u001b[1;33m=\u001b[0m\u001b[0mws\u001b[0m\u001b[1;33m)\u001b[0m\u001b[1;33m\u001b[0m\u001b[0m\n\u001b[0;32m     57\u001b[0m \u001b[1;31m#         X.loc[seg_id,\"rolling_mean_\"+ws] = xc_rolled_mean.mean()\u001b[0m\u001b[1;33m\u001b[0m\u001b[1;33m\u001b[0m\u001b[0m\n",
      "\u001b[1;32m<ipython-input-9-e0b100b26444>\u001b[0m in \u001b[0;36madd_statistics\u001b[1;34m(seg_id, feat_name, X, xc, ws)\u001b[0m\n\u001b[0;32m      5\u001b[0m     \u001b[0mX\u001b[0m\u001b[1;33m[\u001b[0m\u001b[0mseg_id\u001b[0m\u001b[1;33m,\u001b[0m\u001b[0mfeat_name\u001b[0m \u001b[1;33m+\u001b[0m \u001b[1;34m\"_max\"\u001b[0m\u001b[1;33m+\u001b[0m\u001b[0mws\u001b[0m\u001b[1;33m]\u001b[0m \u001b[1;33m=\u001b[0m \u001b[0mxc\u001b[0m\u001b[1;33m.\u001b[0m\u001b[0mmax\u001b[0m\u001b[1;33m(\u001b[0m\u001b[1;33m)\u001b[0m\u001b[1;33m\u001b[0m\u001b[0m\n\u001b[0;32m      6\u001b[0m     \u001b[0mX\u001b[0m\u001b[1;33m[\u001b[0m\u001b[0mseg_id\u001b[0m\u001b[1;33m,\u001b[0m\u001b[0mfeat_name\u001b[0m \u001b[1;33m+\u001b[0m \u001b[1;34m\"_kurt\"\u001b[0m\u001b[1;33m+\u001b[0m\u001b[0mws\u001b[0m\u001b[1;33m]\u001b[0m \u001b[1;33m=\u001b[0m \u001b[0mxc\u001b[0m\u001b[1;33m.\u001b[0m\u001b[0mkurt\u001b[0m\u001b[1;33m(\u001b[0m\u001b[1;33m)\u001b[0m\u001b[1;33m\u001b[0m\u001b[0m\n\u001b[1;32m----> 7\u001b[1;33m     \u001b[0mX\u001b[0m\u001b[1;33m[\u001b[0m\u001b[0mseg_id\u001b[0m\u001b[1;33m,\u001b[0m\u001b[0mfeat_name\u001b[0m \u001b[1;33m+\u001b[0m \u001b[1;34m\"_skew\"\u001b[0m\u001b[1;33m+\u001b[0m\u001b[0mws\u001b[0m\u001b[1;33m]\u001b[0m \u001b[1;33m=\u001b[0m \u001b[0mxc\u001b[0m\u001b[1;33m.\u001b[0m\u001b[0mskew\u001b[0m\u001b[1;33m(\u001b[0m\u001b[1;33m)\u001b[0m\u001b[1;33m\u001b[0m\u001b[0m\n\u001b[0m\u001b[0;32m      8\u001b[0m \u001b[1;33m\u001b[0m\u001b[0m\n\u001b[0;32m      9\u001b[0m \u001b[1;32mdef\u001b[0m \u001b[0mcreate_features\u001b[0m\u001b[1;33m(\u001b[0m\u001b[0mseg_id\u001b[0m\u001b[1;33m,\u001b[0m\u001b[0mseg\u001b[0m\u001b[1;33m,\u001b[0m \u001b[0mX\u001b[0m\u001b[1;33m)\u001b[0m\u001b[1;33m:\u001b[0m\u001b[1;33m\u001b[0m\u001b[0m\n",
      "\u001b[1;32m/usr/local/lib/python3.5/dist-packages/pandas/core/frame.py\u001b[0m in \u001b[0;36m__setitem__\u001b[1;34m(self, key, value)\u001b[0m\n\u001b[0;32m   3117\u001b[0m         \u001b[1;32melse\u001b[0m\u001b[1;33m:\u001b[0m\u001b[1;33m\u001b[0m\u001b[0m\n\u001b[0;32m   3118\u001b[0m             \u001b[1;31m# set column\u001b[0m\u001b[1;33m\u001b[0m\u001b[1;33m\u001b[0m\u001b[0m\n\u001b[1;32m-> 3119\u001b[1;33m             \u001b[0mself\u001b[0m\u001b[1;33m.\u001b[0m\u001b[0m_set_item\u001b[0m\u001b[1;33m(\u001b[0m\u001b[0mkey\u001b[0m\u001b[1;33m,\u001b[0m \u001b[0mvalue\u001b[0m\u001b[1;33m)\u001b[0m\u001b[1;33m\u001b[0m\u001b[0m\n\u001b[0m\u001b[0;32m   3120\u001b[0m \u001b[1;33m\u001b[0m\u001b[0m\n\u001b[0;32m   3121\u001b[0m     \u001b[1;32mdef\u001b[0m \u001b[0m_setitem_slice\u001b[0m\u001b[1;33m(\u001b[0m\u001b[0mself\u001b[0m\u001b[1;33m,\u001b[0m \u001b[0mkey\u001b[0m\u001b[1;33m,\u001b[0m \u001b[0mvalue\u001b[0m\u001b[1;33m)\u001b[0m\u001b[1;33m:\u001b[0m\u001b[1;33m\u001b[0m\u001b[0m\n",
      "\u001b[1;32m/usr/local/lib/python3.5/dist-packages/pandas/core/frame.py\u001b[0m in \u001b[0;36m_set_item\u001b[1;34m(self, key, value)\u001b[0m\n\u001b[0;32m   3192\u001b[0m \u001b[1;33m\u001b[0m\u001b[0m\n\u001b[0;32m   3193\u001b[0m         \u001b[0mself\u001b[0m\u001b[1;33m.\u001b[0m\u001b[0m_ensure_valid_index\u001b[0m\u001b[1;33m(\u001b[0m\u001b[0mvalue\u001b[0m\u001b[1;33m)\u001b[0m\u001b[1;33m\u001b[0m\u001b[0m\n\u001b[1;32m-> 3194\u001b[1;33m         \u001b[0mvalue\u001b[0m \u001b[1;33m=\u001b[0m \u001b[0mself\u001b[0m\u001b[1;33m.\u001b[0m\u001b[0m_sanitize_column\u001b[0m\u001b[1;33m(\u001b[0m\u001b[0mkey\u001b[0m\u001b[1;33m,\u001b[0m \u001b[0mvalue\u001b[0m\u001b[1;33m)\u001b[0m\u001b[1;33m\u001b[0m\u001b[0m\n\u001b[0m\u001b[0;32m   3195\u001b[0m         \u001b[0mNDFrame\u001b[0m\u001b[1;33m.\u001b[0m\u001b[0m_set_item\u001b[0m\u001b[1;33m(\u001b[0m\u001b[0mself\u001b[0m\u001b[1;33m,\u001b[0m \u001b[0mkey\u001b[0m\u001b[1;33m,\u001b[0m \u001b[0mvalue\u001b[0m\u001b[1;33m)\u001b[0m\u001b[1;33m\u001b[0m\u001b[0m\n\u001b[0;32m   3196\u001b[0m \u001b[1;33m\u001b[0m\u001b[0m\n",
      "\u001b[1;32m/usr/local/lib/python3.5/dist-packages/pandas/core/frame.py\u001b[0m in \u001b[0;36m_sanitize_column\u001b[1;34m(self, key, value, broadcast)\u001b[0m\n\u001b[0;32m   3416\u001b[0m \u001b[1;33m\u001b[0m\u001b[0m\n\u001b[0;32m   3417\u001b[0m         \u001b[1;31m# broadcast across multiple columns if necessary\u001b[0m\u001b[1;33m\u001b[0m\u001b[1;33m\u001b[0m\u001b[0m\n\u001b[1;32m-> 3418\u001b[1;33m         \u001b[1;32mif\u001b[0m \u001b[0mbroadcast\u001b[0m \u001b[1;32mand\u001b[0m \u001b[0mkey\u001b[0m \u001b[1;32min\u001b[0m \u001b[0mself\u001b[0m\u001b[1;33m.\u001b[0m\u001b[0mcolumns\u001b[0m \u001b[1;32mand\u001b[0m \u001b[0mvalue\u001b[0m\u001b[1;33m.\u001b[0m\u001b[0mndim\u001b[0m \u001b[1;33m==\u001b[0m \u001b[1;36m1\u001b[0m\u001b[1;33m:\u001b[0m\u001b[1;33m\u001b[0m\u001b[0m\n\u001b[0m\u001b[0;32m   3419\u001b[0m             if (not self.columns.is_unique or\n\u001b[0;32m   3420\u001b[0m                     isinstance(self.columns, MultiIndex)):\n",
      "\u001b[1;32m/usr/local/lib/python3.5/dist-packages/pandas/core/indexes/base.py\u001b[0m in \u001b[0;36m__contains__\u001b[1;34m(self, key)\u001b[0m\n\u001b[0;32m   2035\u001b[0m         \u001b[0mhash\u001b[0m\u001b[1;33m(\u001b[0m\u001b[0mkey\u001b[0m\u001b[1;33m)\u001b[0m\u001b[1;33m\u001b[0m\u001b[0m\n\u001b[0;32m   2036\u001b[0m         \u001b[1;32mtry\u001b[0m\u001b[1;33m:\u001b[0m\u001b[1;33m\u001b[0m\u001b[0m\n\u001b[1;32m-> 2037\u001b[1;33m             \u001b[1;32mreturn\u001b[0m \u001b[0mkey\u001b[0m \u001b[1;32min\u001b[0m \u001b[0mself\u001b[0m\u001b[1;33m.\u001b[0m\u001b[0m_engine\u001b[0m\u001b[1;33m\u001b[0m\u001b[0m\n\u001b[0m\u001b[0;32m   2038\u001b[0m         \u001b[1;32mexcept\u001b[0m \u001b[1;33m(\u001b[0m\u001b[0mOverflowError\u001b[0m\u001b[1;33m,\u001b[0m \u001b[0mTypeError\u001b[0m\u001b[1;33m,\u001b[0m \u001b[0mValueError\u001b[0m\u001b[1;33m)\u001b[0m\u001b[1;33m:\u001b[0m\u001b[1;33m\u001b[0m\u001b[0m\n\u001b[0;32m   2039\u001b[0m             \u001b[1;32mreturn\u001b[0m \u001b[1;32mFalse\u001b[0m\u001b[1;33m\u001b[0m\u001b[0m\n",
      "\u001b[1;31mKeyboardInterrupt\u001b[0m: "
     ]
    }
   ],
   "source": [
    "for seg_id in tqdm_notebook(range(segments)):\n",
    "    seg = train_df.iloc[seg_id*rows:seg_id*rows+rows]\n",
    "    create_features(seg_id, seg,train_X)\n",
    "    train_y.loc[seg_id, 'time_to_failure'] = seg['time_to_failure'].values[-1]\n",
    "    "
   ]
  },
  {
   "cell_type": "code",
   "execution_count": 95,
   "metadata": {
    "collapsed": false,
    "scrolled": true
   },
   "outputs": [],
   "source": [
    "def load_test():\n",
    "    signals = []\n",
    "    segment_names = [file for file in os.listdir(\"../input\") if file.startswith(\"seg\")]\n",
    "    test_df = pd.DataFrame(index=segment_names, dtype=np.float64)\n",
    "    test_df.index = test_df.index.str[:-4]\n",
    "    for file in tqdm_notebook(segment_names):\n",
    "        seg_id = file[:-4]\n",
    "        segment = pd.read_csv(os.path.join(\"../input\",file),dtype={'acoustic_data': np.int16})\n",
    "        create_features(seg_id,segment,test_df)\n",
    "    return test_df\n",
    "test_df = load_test()"
   ]
  },
  {
   "cell_type": "code",
   "execution_count": 104,
   "metadata": {
    "collapsed": false
   },
   "outputs": [
    {
     "data": {
      "text/html": [
       "<div>\n",
       "<style scoped>\n",
       "    .dataframe tbody tr th:only-of-type {\n",
       "        vertical-align: middle;\n",
       "    }\n",
       "\n",
       "    .dataframe tbody tr th {\n",
       "        vertical-align: top;\n",
       "    }\n",
       "\n",
       "    .dataframe thead th {\n",
       "        text-align: right;\n",
       "    }\n",
       "</style>\n",
       "<table border=\"1\" class=\"dataframe\">\n",
       "  <thead>\n",
       "    <tr style=\"text-align: right;\">\n",
       "      <th></th>\n",
       "      <th>fft_mean</th>\n",
       "      <th>fft_max</th>\n",
       "      <th>fft_min</th>\n",
       "      <th>25_quantile</th>\n",
       "      <th>50_quantile</th>\n",
       "      <th>75_quantile</th>\n",
       "      <th>1_quantile</th>\n",
       "      <th>99_quantile</th>\n",
       "      <th>1_part_mean</th>\n",
       "      <th>2_part_mean</th>\n",
       "      <th>...</th>\n",
       "      <th>rolling_min_1000</th>\n",
       "      <th>rolling_skew_1000</th>\n",
       "      <th>rolling_kurt_1000</th>\n",
       "      <th>rolling_var_1000</th>\n",
       "      <th>rollingvar_mean_1000</th>\n",
       "      <th>rollingvar_max_1000</th>\n",
       "      <th>rollingvar_min_1000</th>\n",
       "      <th>rollingvar_skew_1000</th>\n",
       "      <th>rollingvar_kurt_1000</th>\n",
       "      <th>rollingvar_var_1000</th>\n",
       "    </tr>\n",
       "  </thead>\n",
       "  <tbody>\n",
       "    <tr>\n",
       "      <th>0</th>\n",
       "      <td>1251.532473</td>\n",
       "      <td>732617.0</td>\n",
       "      <td>1.677194</td>\n",
       "      <td>3.0</td>\n",
       "      <td>5.0</td>\n",
       "      <td>7.0</td>\n",
       "      <td>-8.0</td>\n",
       "      <td>18.0</td>\n",
       "      <td>4.999120</td>\n",
       "      <td>4.945067</td>\n",
       "      <td>...</td>\n",
       "      <td>3.896</td>\n",
       "      <td>-0.362100</td>\n",
       "      <td>-0.011405</td>\n",
       "      <td>0.087448</td>\n",
       "      <td>26.063646</td>\n",
       "      <td>962.826457</td>\n",
       "      <td>6.434506</td>\n",
       "      <td>9.821299</td>\n",
       "      <td>109.428069</td>\n",
       "      <td>4805.098436</td>\n",
       "    </tr>\n",
       "    <tr>\n",
       "      <th>1</th>\n",
       "      <td>1460.006819</td>\n",
       "      <td>708865.0</td>\n",
       "      <td>2.454891</td>\n",
       "      <td>2.0</td>\n",
       "      <td>5.0</td>\n",
       "      <td>7.0</td>\n",
       "      <td>-11.0</td>\n",
       "      <td>21.0</td>\n",
       "      <td>4.658240</td>\n",
       "      <td>4.736693</td>\n",
       "      <td>...</td>\n",
       "      <td>3.412</td>\n",
       "      <td>-0.037063</td>\n",
       "      <td>-0.401352</td>\n",
       "      <td>0.053633</td>\n",
       "      <td>43.645550</td>\n",
       "      <td>1493.298242</td>\n",
       "      <td>6.297353</td>\n",
       "      <td>7.368732</td>\n",
       "      <td>57.264722</td>\n",
       "      <td>23057.160825</td>\n",
       "    </tr>\n",
       "    <tr>\n",
       "      <th>2</th>\n",
       "      <td>1516.841892</td>\n",
       "      <td>735959.0</td>\n",
       "      <td>2.389381</td>\n",
       "      <td>2.0</td>\n",
       "      <td>5.0</td>\n",
       "      <td>7.0</td>\n",
       "      <td>-15.0</td>\n",
       "      <td>26.0</td>\n",
       "      <td>4.688747</td>\n",
       "      <td>4.815120</td>\n",
       "      <td>...</td>\n",
       "      <td>4.055</td>\n",
       "      <td>-0.151766</td>\n",
       "      <td>0.025022</td>\n",
       "      <td>0.071296</td>\n",
       "      <td>48.787910</td>\n",
       "      <td>1247.989590</td>\n",
       "      <td>6.677597</td>\n",
       "      <td>5.988294</td>\n",
       "      <td>46.496248</td>\n",
       "      <td>12929.013668</td>\n",
       "    </tr>\n",
       "    <tr>\n",
       "      <th>3</th>\n",
       "      <td>1494.430080</td>\n",
       "      <td>735336.0</td>\n",
       "      <td>2.524297</td>\n",
       "      <td>2.0</td>\n",
       "      <td>5.0</td>\n",
       "      <td>7.0</td>\n",
       "      <td>-12.0</td>\n",
       "      <td>22.0</td>\n",
       "      <td>4.908080</td>\n",
       "      <td>4.745120</td>\n",
       "      <td>...</td>\n",
       "      <td>3.722</td>\n",
       "      <td>-0.205127</td>\n",
       "      <td>-0.505194</td>\n",
       "      <td>0.071129</td>\n",
       "      <td>48.147716</td>\n",
       "      <td>2788.436956</td>\n",
       "      <td>6.371327</td>\n",
       "      <td>10.439095</td>\n",
       "      <td>119.038796</td>\n",
       "      <td>43136.235776</td>\n",
       "    </tr>\n",
       "    <tr>\n",
       "      <th>4</th>\n",
       "      <td>1566.780849</td>\n",
       "      <td>736308.0</td>\n",
       "      <td>3.839907</td>\n",
       "      <td>2.0</td>\n",
       "      <td>5.0</td>\n",
       "      <td>7.0</td>\n",
       "      <td>-15.0</td>\n",
       "      <td>26.0</td>\n",
       "      <td>4.897360</td>\n",
       "      <td>4.918240</td>\n",
       "      <td>...</td>\n",
       "      <td>3.918</td>\n",
       "      <td>0.233304</td>\n",
       "      <td>0.195879</td>\n",
       "      <td>0.051987</td>\n",
       "      <td>53.412710</td>\n",
       "      <td>2073.202978</td>\n",
       "      <td>6.490842</td>\n",
       "      <td>7.081533</td>\n",
       "      <td>58.718557</td>\n",
       "      <td>32894.369930</td>\n",
       "    </tr>\n",
       "  </tbody>\n",
       "</table>\n",
       "<p>5 rows × 70 columns</p>\n",
       "</div>"
      ],
      "text/plain": [
       "      fft_mean   fft_max   fft_min  25_quantile  50_quantile  75_quantile  \\\n",
       "0  1251.532473  732617.0  1.677194          3.0          5.0          7.0   \n",
       "1  1460.006819  708865.0  2.454891          2.0          5.0          7.0   \n",
       "2  1516.841892  735959.0  2.389381          2.0          5.0          7.0   \n",
       "3  1494.430080  735336.0  2.524297          2.0          5.0          7.0   \n",
       "4  1566.780849  736308.0  3.839907          2.0          5.0          7.0   \n",
       "\n",
       "   1_quantile  99_quantile  1_part_mean  2_part_mean         ...           \\\n",
       "0        -8.0         18.0     4.999120     4.945067         ...            \n",
       "1       -11.0         21.0     4.658240     4.736693         ...            \n",
       "2       -15.0         26.0     4.688747     4.815120         ...            \n",
       "3       -12.0         22.0     4.908080     4.745120         ...            \n",
       "4       -15.0         26.0     4.897360     4.918240         ...            \n",
       "\n",
       "   rolling_min_1000  rolling_skew_1000  rolling_kurt_1000  rolling_var_1000  \\\n",
       "0             3.896          -0.362100          -0.011405          0.087448   \n",
       "1             3.412          -0.037063          -0.401352          0.053633   \n",
       "2             4.055          -0.151766           0.025022          0.071296   \n",
       "3             3.722          -0.205127          -0.505194          0.071129   \n",
       "4             3.918           0.233304           0.195879          0.051987   \n",
       "\n",
       "   rollingvar_mean_1000  rollingvar_max_1000  rollingvar_min_1000  \\\n",
       "0             26.063646           962.826457             6.434506   \n",
       "1             43.645550          1493.298242             6.297353   \n",
       "2             48.787910          1247.989590             6.677597   \n",
       "3             48.147716          2788.436956             6.371327   \n",
       "4             53.412710          2073.202978             6.490842   \n",
       "\n",
       "   rollingvar_skew_1000  rollingvar_kurt_1000  rollingvar_var_1000  \n",
       "0              9.821299            109.428069          4805.098436  \n",
       "1              7.368732             57.264722         23057.160825  \n",
       "2              5.988294             46.496248         12929.013668  \n",
       "3             10.439095            119.038796         43136.235776  \n",
       "4              7.081533             58.718557         32894.369930  \n",
       "\n",
       "[5 rows x 70 columns]"
      ]
     },
     "execution_count": 104,
     "metadata": {},
     "output_type": "execute_result"
    }
   ],
   "source": [
    "train_X.head()"
   ]
  },
  {
   "cell_type": "code",
   "execution_count": 105,
   "metadata": {
    "collapsed": false
   },
   "outputs": [
    {
     "data": {
      "text/html": [
       "<div>\n",
       "<style scoped>\n",
       "    .dataframe tbody tr th:only-of-type {\n",
       "        vertical-align: middle;\n",
       "    }\n",
       "\n",
       "    .dataframe tbody tr th {\n",
       "        vertical-align: top;\n",
       "    }\n",
       "\n",
       "    .dataframe thead th {\n",
       "        text-align: right;\n",
       "    }\n",
       "</style>\n",
       "<table border=\"1\" class=\"dataframe\">\n",
       "  <thead>\n",
       "    <tr style=\"text-align: right;\">\n",
       "      <th></th>\n",
       "      <th>fft_mean</th>\n",
       "      <th>fft_max</th>\n",
       "      <th>fft_min</th>\n",
       "      <th>25_quantile</th>\n",
       "      <th>50_quantile</th>\n",
       "      <th>75_quantile</th>\n",
       "      <th>1_quantile</th>\n",
       "      <th>99_quantile</th>\n",
       "      <th>1_part_mean</th>\n",
       "      <th>2_part_mean</th>\n",
       "      <th>...</th>\n",
       "      <th>rolling_min_1000</th>\n",
       "      <th>rolling_skew_1000</th>\n",
       "      <th>rolling_kurt_1000</th>\n",
       "      <th>rolling_var_1000</th>\n",
       "      <th>rollingvar_mean_1000</th>\n",
       "      <th>rollingvar_max_1000</th>\n",
       "      <th>rollingvar_min_1000</th>\n",
       "      <th>rollingvar_skew_1000</th>\n",
       "      <th>rollingvar_kurt_1000</th>\n",
       "      <th>rollingvar_var_1000</th>\n",
       "    </tr>\n",
       "  </thead>\n",
       "  <tbody>\n",
       "    <tr>\n",
       "      <th>seg_00030f</th>\n",
       "      <td>1254.037936</td>\n",
       "      <td>673767.0</td>\n",
       "      <td>5.404037</td>\n",
       "      <td>2.0</td>\n",
       "      <td>4.0</td>\n",
       "      <td>7.0</td>\n",
       "      <td>-8.0</td>\n",
       "      <td>18.0</td>\n",
       "      <td>4.449120</td>\n",
       "      <td>4.539947</td>\n",
       "      <td>...</td>\n",
       "      <td>3.774</td>\n",
       "      <td>-0.161726</td>\n",
       "      <td>0.061229</td>\n",
       "      <td>0.053774</td>\n",
       "      <td>23.909286</td>\n",
       "      <td>610.942286</td>\n",
       "      <td>6.203804</td>\n",
       "      <td>8.414273</td>\n",
       "      <td>85.781704</td>\n",
       "      <td>2409.144787</td>\n",
       "    </tr>\n",
       "    <tr>\n",
       "      <th>seg_0012b5</th>\n",
       "      <td>1392.755787</td>\n",
       "      <td>625673.0</td>\n",
       "      <td>1.922947</td>\n",
       "      <td>2.0</td>\n",
       "      <td>4.0</td>\n",
       "      <td>7.0</td>\n",
       "      <td>-12.0</td>\n",
       "      <td>20.0</td>\n",
       "      <td>4.009760</td>\n",
       "      <td>4.151040</td>\n",
       "      <td>...</td>\n",
       "      <td>3.342</td>\n",
       "      <td>0.010131</td>\n",
       "      <td>-0.085346</td>\n",
       "      <td>0.053321</td>\n",
       "      <td>35.210685</td>\n",
       "      <td>880.920857</td>\n",
       "      <td>6.456335</td>\n",
       "      <td>5.875881</td>\n",
       "      <td>38.394511</td>\n",
       "      <td>8854.005351</td>\n",
       "    </tr>\n",
       "    <tr>\n",
       "      <th>seg_00184e</th>\n",
       "      <td>1516.299674</td>\n",
       "      <td>691539.0</td>\n",
       "      <td>1.567219</td>\n",
       "      <td>2.0</td>\n",
       "      <td>5.0</td>\n",
       "      <td>7.0</td>\n",
       "      <td>-11.0</td>\n",
       "      <td>20.0</td>\n",
       "      <td>4.498987</td>\n",
       "      <td>4.740747</td>\n",
       "      <td>...</td>\n",
       "      <td>3.544</td>\n",
       "      <td>-0.210958</td>\n",
       "      <td>-0.411439</td>\n",
       "      <td>0.061118</td>\n",
       "      <td>48.515394</td>\n",
       "      <td>2816.349781</td>\n",
       "      <td>6.262293</td>\n",
       "      <td>9.490951</td>\n",
       "      <td>100.633434</td>\n",
       "      <td>47957.179384</td>\n",
       "    </tr>\n",
       "    <tr>\n",
       "      <th>seg_003339</th>\n",
       "      <td>1127.373974</td>\n",
       "      <td>679721.0</td>\n",
       "      <td>3.308495</td>\n",
       "      <td>3.0</td>\n",
       "      <td>5.0</td>\n",
       "      <td>7.0</td>\n",
       "      <td>-5.0</td>\n",
       "      <td>14.0</td>\n",
       "      <td>4.463947</td>\n",
       "      <td>4.711040</td>\n",
       "      <td>...</td>\n",
       "      <td>3.889</td>\n",
       "      <td>0.179065</td>\n",
       "      <td>-0.116018</td>\n",
       "      <td>0.050584</td>\n",
       "      <td>16.958824</td>\n",
       "      <td>519.987812</td>\n",
       "      <td>5.995971</td>\n",
       "      <td>8.852743</td>\n",
       "      <td>91.502969</td>\n",
       "      <td>1684.865024</td>\n",
       "    </tr>\n",
       "    <tr>\n",
       "      <th>seg_0042cc</th>\n",
       "      <td>1340.070052</td>\n",
       "      <td>619251.0</td>\n",
       "      <td>4.718620</td>\n",
       "      <td>2.0</td>\n",
       "      <td>4.0</td>\n",
       "      <td>6.0</td>\n",
       "      <td>-10.0</td>\n",
       "      <td>19.0</td>\n",
       "      <td>4.240587</td>\n",
       "      <td>4.224160</td>\n",
       "      <td>...</td>\n",
       "      <td>3.357</td>\n",
       "      <td>0.111537</td>\n",
       "      <td>0.098487</td>\n",
       "      <td>0.075090</td>\n",
       "      <td>33.740549</td>\n",
       "      <td>1156.055656</td>\n",
       "      <td>6.337473</td>\n",
       "      <td>7.634272</td>\n",
       "      <td>67.724445</td>\n",
       "      <td>11187.707879</td>\n",
       "    </tr>\n",
       "  </tbody>\n",
       "</table>\n",
       "<p>5 rows × 70 columns</p>\n",
       "</div>"
      ],
      "text/plain": [
       "               fft_mean   fft_max   fft_min  25_quantile  50_quantile  \\\n",
       "seg_00030f  1254.037936  673767.0  5.404037          2.0          4.0   \n",
       "seg_0012b5  1392.755787  625673.0  1.922947          2.0          4.0   \n",
       "seg_00184e  1516.299674  691539.0  1.567219          2.0          5.0   \n",
       "seg_003339  1127.373974  679721.0  3.308495          3.0          5.0   \n",
       "seg_0042cc  1340.070052  619251.0  4.718620          2.0          4.0   \n",
       "\n",
       "            75_quantile  1_quantile  99_quantile  1_part_mean  2_part_mean  \\\n",
       "seg_00030f          7.0        -8.0         18.0     4.449120     4.539947   \n",
       "seg_0012b5          7.0       -12.0         20.0     4.009760     4.151040   \n",
       "seg_00184e          7.0       -11.0         20.0     4.498987     4.740747   \n",
       "seg_003339          7.0        -5.0         14.0     4.463947     4.711040   \n",
       "seg_0042cc          6.0       -10.0         19.0     4.240587     4.224160   \n",
       "\n",
       "                   ...           rolling_min_1000  rolling_skew_1000  \\\n",
       "seg_00030f         ...                      3.774          -0.161726   \n",
       "seg_0012b5         ...                      3.342           0.010131   \n",
       "seg_00184e         ...                      3.544          -0.210958   \n",
       "seg_003339         ...                      3.889           0.179065   \n",
       "seg_0042cc         ...                      3.357           0.111537   \n",
       "\n",
       "            rolling_kurt_1000  rolling_var_1000  rollingvar_mean_1000  \\\n",
       "seg_00030f           0.061229          0.053774             23.909286   \n",
       "seg_0012b5          -0.085346          0.053321             35.210685   \n",
       "seg_00184e          -0.411439          0.061118             48.515394   \n",
       "seg_003339          -0.116018          0.050584             16.958824   \n",
       "seg_0042cc           0.098487          0.075090             33.740549   \n",
       "\n",
       "            rollingvar_max_1000  rollingvar_min_1000  rollingvar_skew_1000  \\\n",
       "seg_00030f           610.942286             6.203804              8.414273   \n",
       "seg_0012b5           880.920857             6.456335              5.875881   \n",
       "seg_00184e          2816.349781             6.262293              9.490951   \n",
       "seg_003339           519.987812             5.995971              8.852743   \n",
       "seg_0042cc          1156.055656             6.337473              7.634272   \n",
       "\n",
       "            rollingvar_kurt_1000  rollingvar_var_1000  \n",
       "seg_00030f             85.781704          2409.144787  \n",
       "seg_0012b5             38.394511          8854.005351  \n",
       "seg_00184e            100.633434         47957.179384  \n",
       "seg_003339             91.502969          1684.865024  \n",
       "seg_0042cc             67.724445         11187.707879  \n",
       "\n",
       "[5 rows x 70 columns]"
      ]
     },
     "execution_count": 105,
     "metadata": {},
     "output_type": "execute_result"
    }
   ],
   "source": [
    "test_df.head()"
   ]
  },
  {
   "cell_type": "code",
   "execution_count": 106,
   "metadata": {
    "collapsed": false
   },
   "outputs": [],
   "source": [
    "n_fold = 5\n",
    "folds = KFold(n_splits=n_fold, shuffle=True, random_state=42)"
   ]
  },
  {
   "cell_type": "code",
   "execution_count": 107,
   "metadata": {
    "collapsed": false
   },
   "outputs": [],
   "source": [
    "params = {\n",
    "    'boosting_type': 'gbdt',\n",
    "    'objective': 'regression',\n",
    "    'min_data_in_leaf': 10, \n",
    "    'metric': {'l2', 'l1'},\n",
    "    'num_leaves': 45,\n",
    "    'max_depth':4,\n",
    "    'learning_rate': 0.001,\n",
    "    'feature_fraction': 0.9,\n",
    "    'bagging_fraction': 0.8,\n",
    "    'bagging_freq': 5,\n",
    "    'verbose': 1,\n",
    "    'metric':'mae'\n",
    "}"
   ]
  },
  {
   "cell_type": "code",
   "execution_count": 108,
   "metadata": {
    "collapsed": false
   },
   "outputs": [
    {
     "name": "stdout",
     "output_type": "stream",
     "text": [
      "Training until validation scores don't improve for 1000 rounds.\n",
      "[1000]\ttraining's l1: 2.26576\tvalid_1's l1: 2.36239\n",
      "[2000]\ttraining's l1: 2.06007\tvalid_1's l1: 2.23302\n",
      "[3000]\ttraining's l1: 1.96958\tvalid_1's l1: 2.20599\n",
      "[4000]\ttraining's l1: 1.90831\tvalid_1's l1: 2.20054\n",
      "[5000]\ttraining's l1: 1.85691\tvalid_1's l1: 2.19887\n",
      "[6000]\ttraining's l1: 1.81193\tvalid_1's l1: 2.19891\n",
      "Early stopping, best iteration is:\n",
      "[5695]\ttraining's l1: 1.82596\tvalid_1's l1: 2.19785\n",
      "Training until validation scores don't improve for 1000 rounds.\n",
      "[1000]\ttraining's l1: 2.25891\tvalid_1's l1: 2.35778\n",
      "[2000]\ttraining's l1: 2.05184\tvalid_1's l1: 2.23484\n",
      "[3000]\ttraining's l1: 1.9588\tvalid_1's l1: 2.20655\n",
      "[4000]\ttraining's l1: 1.89393\tvalid_1's l1: 2.20047\n",
      "Early stopping, best iteration is:\n",
      "[3617]\ttraining's l1: 1.91685\tvalid_1's l1: 2.20013\n",
      "Training until validation scores don't improve for 1000 rounds.\n",
      "[1000]\ttraining's l1: 2.26536\tvalid_1's l1: 2.3961\n",
      "[2000]\ttraining's l1: 2.06506\tvalid_1's l1: 2.23513\n",
      "[3000]\ttraining's l1: 1.97389\tvalid_1's l1: 2.206\n",
      "[4000]\ttraining's l1: 1.91114\tvalid_1's l1: 2.20174\n",
      "[5000]\ttraining's l1: 1.86153\tvalid_1's l1: 2.20154\n",
      "Early stopping, best iteration is:\n",
      "[4300]\ttraining's l1: 1.89563\tvalid_1's l1: 2.20099\n",
      "Training until validation scores don't improve for 1000 rounds.\n",
      "[1000]\ttraining's l1: 2.28503\tvalid_1's l1: 2.24323\n",
      "[2000]\ttraining's l1: 2.07245\tvalid_1's l1: 2.12895\n",
      "[3000]\ttraining's l1: 1.97709\tvalid_1's l1: 2.11176\n",
      "[4000]\ttraining's l1: 1.9152\tvalid_1's l1: 2.10795\n",
      "[5000]\ttraining's l1: 1.86647\tvalid_1's l1: 2.10911\n",
      "Early stopping, best iteration is:\n",
      "[4480]\ttraining's l1: 1.89073\tvalid_1's l1: 2.10759\n",
      "Training until validation scores don't improve for 1000 rounds.\n",
      "[1000]\ttraining's l1: 2.25671\tvalid_1's l1: 2.35777\n",
      "[2000]\ttraining's l1: 2.05719\tvalid_1's l1: 2.20868\n",
      "[3000]\ttraining's l1: 1.96881\tvalid_1's l1: 2.17264\n",
      "[4000]\ttraining's l1: 1.90876\tvalid_1's l1: 2.16155\n",
      "[5000]\ttraining's l1: 1.85902\tvalid_1's l1: 2.15721\n",
      "[6000]\ttraining's l1: 1.81324\tvalid_1's l1: 2.15631\n",
      "Early stopping, best iteration is:\n",
      "[5660]\ttraining's l1: 1.82804\tvalid_1's l1: 2.15575\n"
     ]
    }
   ],
   "source": [
    "features_importance = pd.DataFrame({\"features\":train_X.columns,\n",
    "                                    \"importance\":np.zeros(train_X.columns.shape[0])})\n",
    "predictions = pd.DataFrame({\"seg_id\":test_df.index,\"time_to_failure\":np.zeros(test_df.shape[0])})\n",
    "oof = np.zeros(train_X.shape[0])\n",
    "\n",
    "for train_idx,val_idx in folds.split(train_X,train_y):\n",
    "    X_train,y_train = train_X.iloc[train_idx],train_y.iloc[train_idx]\n",
    "    X_val,y_val = train_X.iloc[val_idx],train_y.iloc[val_idx]\n",
    "    \n",
    "    lgb_train = lgb.Dataset(X_train, y_train)\n",
    "    lgb_eval = lgb.Dataset(X_val,y_val, reference=lgb_train)\n",
    "    model = lgb.LGBMRegressor(**params, n_estimators = 20000, n_jobs = -1)\n",
    "    model.fit(X_train,y_train,\n",
    "              eval_set=[(X_train,y_train),(X_val,y_val)], \n",
    "              verbose=1000,\n",
    "              early_stopping_rounds=1000)\n",
    "    \n",
    "    oof[val_idx] = model.predict(X_val, num_iteration=model.best_iteration_)\n",
    "    \n",
    "    features_importance[\"importance\"] += model.feature_importances_\n",
    "    predictions[\"time_to_failure\"] += model.predict(test_df, num_iteration=model.best_iteration_) "
   ]
  },
  {
   "cell_type": "code",
   "execution_count": 109,
   "metadata": {
    "collapsed": false
   },
   "outputs": [
    {
     "data": {
      "text/plain": [
       "2.172469815550253"
      ]
     },
     "execution_count": 109,
     "metadata": {},
     "output_type": "execute_result"
    }
   ],
   "source": [
    "mean_absolute_error(train_y,oof)"
   ]
  },
  {
   "cell_type": "code",
   "execution_count": 110,
   "metadata": {
    "collapsed": false
   },
   "outputs": [
    {
     "data": {
      "image/png": "[encoded data removed]",
      "text/plain": [
       "<matplotlib.figure.Figure at 0x7f8719df0320>"
      ]
     },
     "metadata": {},
     "output_type": "display_data"
    }
   ],
   "source": [
    "features_importance[\"importance\"] = features_importance[\"importance\"]/5\n",
    "predictions[\"time_to_failure\"] = predictions[\"time_to_failure\"]/5\n",
    "\n",
    "plt.figure(figsize=(16,10))\n",
    "ax = sns.barplot(x=\"importance\", y=\"features\", data=features_importance.sort_values(by=\"importance\",ascending=False))\n"
   ]
  },
  {
   "cell_type": "code",
   "execution_count": 111,
   "metadata": {
    "collapsed": false
   },
   "outputs": [],
   "source": [
    "predictions.to_csv(\"../submissions/submission_lgb_quantiles_segments.csv\",index=False)"
   ]
  },
  {
   "cell_type": "code",
   "execution_count": null,
   "metadata": {
    "collapsed": true
   },
   "outputs": [],
   "source": []
  }
 ],
 "metadata": {
  "kernelspec": {
   "display_name": "Python 3",
   "language": "python",
   "name": "python3"
  },
  "language_info": {
   "codemirror_mode": {
    "name": "ipython",
    "version": 3
   },
   "file_extension": ".py",
   "mimetype": "text/x-python",
   "name": "python",
   "nbconvert_exporter": "python",
   "pygments_lexer": "ipython3",
   "version": "3.5.2"
  }
 },
 "nbformat": 4,
 "nbformat_minor": 0
}
