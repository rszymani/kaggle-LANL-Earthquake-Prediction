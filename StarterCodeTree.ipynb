{
 "cells": [
  {
   "cell_type": "code",
   "execution_count": 1,
   "metadata": {
    "collapsed": true
   },
   "outputs": [],
   "source": [
    "import os\n",
    "from sklearn.tree import DecisionTreeRegressor\n",
    "from sklearn.metrics import mean_absolute_error\n",
    "from sklearn.model_selection import train_test_split\n",
    "from sklearn.preprocessing import StandardScaler\n",
    "from sklearn.model_selection import KFold\n",
    "\n",
    "import pandas as pd\n",
    "import numpy as np \n",
    "import matplotlib.pyplot as plt\n",
    "import seaborn as sns\n",
    "from tqdm import tqdm_notebook\n",
    "from sklearn.tree import export_graphviz\n",
    "import lightgbm as lgb\n",
    "from scipy.fftpack import fft\n",
    "\n",
    "import gc\n",
    "%matplotlib inline"
   ]
  },
  {
   "cell_type": "code",
   "execution_count": 2,
   "metadata": {
    "collapsed": false
   },
   "outputs": [
    {
     "name": "stdout",
     "output_type": "stream",
     "text": [
      "CPU times: user 5 µs, sys: 2 µs, total: 7 µs\n",
      "Wall time: 10 µs\n"
     ]
    }
   ],
   "source": [
    "%time\n",
    "train_df = pd.read_csv(os.path.join(\"../input\",'train.csv'), dtype={'acoustic_data': np.int16, 'time_to_failure': np.float32})"
   ]
  },
  {
   "cell_type": "code",
   "execution_count": 3,
   "metadata": {
    "collapsed": false
   },
   "outputs": [
    {
     "data": {
      "text/plain": [
       "(629145480, 2)"
      ]
     },
     "execution_count": 3,
     "metadata": {},
     "output_type": "execute_result"
    }
   ],
   "source": [
    "train_df.shape"
   ]
  },
  {
   "cell_type": "code",
   "execution_count": 4,
   "metadata": {
    "collapsed": false,
    "scrolled": true
   },
   "outputs": [
    {
     "name": "stdout",
     "output_type": "stream",
     "text": [
      "Number of segments:  4194\n"
     ]
    }
   ],
   "source": [
    "rows = 150000\n",
    "segments = int(np.floor(train_df.shape[0] / rows))\n",
    "print(\"Number of segments: \", segments)"
   ]
  },
  {
   "cell_type": "code",
   "execution_count": 5,
   "metadata": {
    "collapsed": false
   },
   "outputs": [],
   "source": [
    "train_X = pd.DataFrame(index=range(segments), dtype=np.float64)\n",
    "train_y = pd.DataFrame(index=range(segments), dtype=np.float64, columns=['time_to_failure'])"
   ]
  },
  {
   "cell_type": "code",
   "execution_count": 6,
   "metadata": {
    "collapsed": false
   },
   "outputs": [],
   "source": [
    "def create_features(seg_id,seg, X):\n",
    "    xc = seg[\"acoustic_data\"]\n",
    "    \n",
    "    fftxc = fft(xc)\n",
    "    X.loc[seg_id,\"fft_mean\"] = np.abs(fftxc).mean()\n",
    "    X.loc[seg_id,\"fft_max\"] = np.abs(fftxc).max()\n",
    "    X.loc[seg_id,\"fft_min\"] = np.abs(fftxc).min()\n",
    "    \n",
    "    \n",
    "    X.loc[seg_id,\"avg\"] = xc.mean()\n",
    "    X.loc[seg_id,\"max\"] = xc.max()\n",
    "    X.loc[seg_id,\"min\"] = xc.min()\n",
    "    X.loc[seg_id,\"skew\"] = xc.skew()\n",
    "    X.loc[seg_id,\"kurt\"] = xc.kurt()\n",
    "    X.loc[seg_id,\"median\"] = xc.median()\n",
    "    X.loc[seg_id,\"var\"] = xc.var()\n",
    "    \n",
    "    window_sizes = [20,50,100,300,1000]\n",
    "    for window_size in window_sizes:\n",
    "        xc_rolled_mean = xc.rolling(window_size).mean()\n",
    "        ws = str(window_size)\n",
    "        X.loc[seg_id,\"rolling_mean_\"+ws] = xc_rolled_mean.mean()\n",
    "        X.loc[seg_id,\"rolling_max_\"+ ws] = xc_rolled_mean.max()\n",
    "        X.loc[seg_id,\"rolling_min_\"+ws] = xc_rolled_mean.min()\n",
    "        X.loc[seg_id,\"rolling_skew_\"+ws] = xc_rolled_mean.skew()\n",
    "        X.loc[seg_id,\"rolling_kurt_\"+ws] = xc_rolled_mean.kurt()\n",
    "        X.loc[seg_id,\"rolling_var_\"+ws] = xc_rolled_mean.var()"
   ]
  },
  {
   "cell_type": "code",
   "execution_count": 7,
   "metadata": {
    "collapsed": false
   },
   "outputs": [
    {
     "name": "stdout",
     "output_type": "stream",
     "text": [
      "\n"
     ]
    }
   ],
   "source": [
    "for seg_id in tqdm_notebook(range(segments)):\n",
    "    seg = train_df.iloc[seg_id*rows:seg_id*rows+rows]\n",
    "    create_features(seg_id, seg,train_X)\n",
    "    train_y.loc[seg_id, 'time_to_failure'] = seg['time_to_failure'].values[-1]\n",
    "    "
   ]
  },
  {
   "cell_type": "code",
   "execution_count": 8,
   "metadata": {
    "collapsed": false,
    "scrolled": true
   },
   "outputs": [
    {
     "name": "stdout",
     "output_type": "stream",
     "text": [
      "\n"
     ]
    }
   ],
   "source": [
    "def load_test():\n",
    "    signals = []\n",
    "    segment_names = [file for file in os.listdir(\"../input\") if file.startswith(\"seg\")]\n",
    "    test_df = pd.DataFrame(index=segment_names, dtype=np.float64)\n",
    "    test_df.index = test_df.index.str[:-4]\n",
    "    for file in tqdm_notebook(segment_names):\n",
    "        seg_id = file[:-4]\n",
    "        segment = pd.read_csv(os.path.join(\"../input\",file),dtype={'acoustic_data': np.int16})\n",
    "        create_features(seg_id,segment,test_df)\n",
    "    return test_df\n",
    "test_df = load_test()"
   ]
  },
  {
   "cell_type": "code",
   "execution_count": 9,
   "metadata": {
    "collapsed": false
   },
   "outputs": [
    {
     "data": {
      "text/html": [
       "<div>\n",
       "<style scoped>\n",
       "    .dataframe tbody tr th:only-of-type {\n",
       "        vertical-align: middle;\n",
       "    }\n",
       "\n",
       "    .dataframe tbody tr th {\n",
       "        vertical-align: top;\n",
       "    }\n",
       "\n",
       "    .dataframe thead th {\n",
       "        text-align: right;\n",
       "    }\n",
       "</style>\n",
       "<table border=\"1\" class=\"dataframe\">\n",
       "  <thead>\n",
       "    <tr style=\"text-align: right;\">\n",
       "      <th></th>\n",
       "      <th>fft_mean</th>\n",
       "      <th>fft_max</th>\n",
       "      <th>fft_min</th>\n",
       "      <th>avg</th>\n",
       "      <th>max</th>\n",
       "      <th>min</th>\n",
       "      <th>skew</th>\n",
       "      <th>kurt</th>\n",
       "      <th>median</th>\n",
       "      <th>var</th>\n",
       "      <th>...</th>\n",
       "      <th>rolling_min_300</th>\n",
       "      <th>rolling_skew_300</th>\n",
       "      <th>rolling_kurt_300</th>\n",
       "      <th>rolling_var_300</th>\n",
       "      <th>rolling_mean_1000</th>\n",
       "      <th>rolling_max_1000</th>\n",
       "      <th>rolling_min_1000</th>\n",
       "      <th>rolling_skew_1000</th>\n",
       "      <th>rolling_kurt_1000</th>\n",
       "      <th>rolling_var_1000</th>\n",
       "    </tr>\n",
       "  </thead>\n",
       "  <tbody>\n",
       "    <tr>\n",
       "      <th>0</th>\n",
       "      <td>1251.532473</td>\n",
       "      <td>732617.0</td>\n",
       "      <td>1.677194</td>\n",
       "      <td>4.884113</td>\n",
       "      <td>104.0</td>\n",
       "      <td>-98.0</td>\n",
       "      <td>-0.024061</td>\n",
       "      <td>33.662481</td>\n",
       "      <td>5.0</td>\n",
       "      <td>26.021284</td>\n",
       "      <td>...</td>\n",
       "      <td>3.643333</td>\n",
       "      <td>-0.216399</td>\n",
       "      <td>0.020864</td>\n",
       "      <td>0.117756</td>\n",
       "      <td>4.883418</td>\n",
       "      <td>5.629</td>\n",
       "      <td>3.896</td>\n",
       "      <td>-0.362100</td>\n",
       "      <td>-0.011405</td>\n",
       "      <td>0.087448</td>\n",
       "    </tr>\n",
       "    <tr>\n",
       "      <th>1</th>\n",
       "      <td>1460.006819</td>\n",
       "      <td>708865.0</td>\n",
       "      <td>2.454891</td>\n",
       "      <td>4.725767</td>\n",
       "      <td>181.0</td>\n",
       "      <td>-154.0</td>\n",
       "      <td>0.390561</td>\n",
       "      <td>98.758517</td>\n",
       "      <td>5.0</td>\n",
       "      <td>43.412599</td>\n",
       "      <td>...</td>\n",
       "      <td>1.623333</td>\n",
       "      <td>-0.092537</td>\n",
       "      <td>2.267533</td>\n",
       "      <td>0.091278</td>\n",
       "      <td>4.724876</td>\n",
       "      <td>5.667</td>\n",
       "      <td>3.412</td>\n",
       "      <td>-0.037063</td>\n",
       "      <td>-0.401352</td>\n",
       "      <td>0.053633</td>\n",
       "    </tr>\n",
       "    <tr>\n",
       "      <th>2</th>\n",
       "      <td>1516.841892</td>\n",
       "      <td>735959.0</td>\n",
       "      <td>2.389381</td>\n",
       "      <td>4.906393</td>\n",
       "      <td>140.0</td>\n",
       "      <td>-106.0</td>\n",
       "      <td>0.217391</td>\n",
       "      <td>33.555211</td>\n",
       "      <td>5.0</td>\n",
       "      <td>48.544621</td>\n",
       "      <td>...</td>\n",
       "      <td>2.413333</td>\n",
       "      <td>0.050486</td>\n",
       "      <td>1.195594</td>\n",
       "      <td>0.116096</td>\n",
       "      <td>4.905840</td>\n",
       "      <td>5.957</td>\n",
       "      <td>4.055</td>\n",
       "      <td>-0.151766</td>\n",
       "      <td>0.025022</td>\n",
       "      <td>0.071296</td>\n",
       "    </tr>\n",
       "    <tr>\n",
       "      <th>3</th>\n",
       "      <td>1494.430080</td>\n",
       "      <td>735336.0</td>\n",
       "      <td>2.524297</td>\n",
       "      <td>4.902240</td>\n",
       "      <td>197.0</td>\n",
       "      <td>-199.0</td>\n",
       "      <td>0.757278</td>\n",
       "      <td>116.548172</td>\n",
       "      <td>5.0</td>\n",
       "      <td>47.918309</td>\n",
       "      <td>...</td>\n",
       "      <td>1.620000</td>\n",
       "      <td>-0.227936</td>\n",
       "      <td>3.178413</td>\n",
       "      <td>0.117735</td>\n",
       "      <td>4.901486</td>\n",
       "      <td>5.858</td>\n",
       "      <td>3.722</td>\n",
       "      <td>-0.205127</td>\n",
       "      <td>-0.505194</td>\n",
       "      <td>0.071129</td>\n",
       "    </tr>\n",
       "    <tr>\n",
       "      <th>4</th>\n",
       "      <td>1566.780849</td>\n",
       "      <td>736308.0</td>\n",
       "      <td>3.839907</td>\n",
       "      <td>4.908720</td>\n",
       "      <td>145.0</td>\n",
       "      <td>-126.0</td>\n",
       "      <td>0.064531</td>\n",
       "      <td>52.977905</td>\n",
       "      <td>5.0</td>\n",
       "      <td>53.306210</td>\n",
       "      <td>...</td>\n",
       "      <td>2.636667</td>\n",
       "      <td>0.588707</td>\n",
       "      <td>4.599418</td>\n",
       "      <td>0.104880</td>\n",
       "      <td>4.910196</td>\n",
       "      <td>6.078</td>\n",
       "      <td>3.918</td>\n",
       "      <td>0.233304</td>\n",
       "      <td>0.195879</td>\n",
       "      <td>0.051987</td>\n",
       "    </tr>\n",
       "  </tbody>\n",
       "</table>\n",
       "<p>5 rows × 40 columns</p>\n",
       "</div>"
      ],
      "text/plain": [
       "      fft_mean   fft_max   fft_min       avg    max    min      skew  \\\n",
       "0  1251.532473  732617.0  1.677194  4.884113  104.0  -98.0 -0.024061   \n",
       "1  1460.006819  708865.0  2.454891  4.725767  181.0 -154.0  0.390561   \n",
       "2  1516.841892  735959.0  2.389381  4.906393  140.0 -106.0  0.217391   \n",
       "3  1494.430080  735336.0  2.524297  4.902240  197.0 -199.0  0.757278   \n",
       "4  1566.780849  736308.0  3.839907  4.908720  145.0 -126.0  0.064531   \n",
       "\n",
       "         kurt  median        var        ...         rolling_min_300  \\\n",
       "0   33.662481     5.0  26.021284        ...                3.643333   \n",
       "1   98.758517     5.0  43.412599        ...                1.623333   \n",
       "2   33.555211     5.0  48.544621        ...                2.413333   \n",
       "3  116.548172     5.0  47.918309        ...                1.620000   \n",
       "4   52.977905     5.0  53.306210        ...                2.636667   \n",
       "\n",
       "   rolling_skew_300  rolling_kurt_300  rolling_var_300  rolling_mean_1000  \\\n",
       "0         -0.216399          0.020864         0.117756           4.883418   \n",
       "1         -0.092537          2.267533         0.091278           4.724876   \n",
       "2          0.050486          1.195594         0.116096           4.905840   \n",
       "3         -0.227936          3.178413         0.117735           4.901486   \n",
       "4          0.588707          4.599418         0.104880           4.910196   \n",
       "\n",
       "   rolling_max_1000  rolling_min_1000  rolling_skew_1000  rolling_kurt_1000  \\\n",
       "0             5.629             3.896          -0.362100          -0.011405   \n",
       "1             5.667             3.412          -0.037063          -0.401352   \n",
       "2             5.957             4.055          -0.151766           0.025022   \n",
       "3             5.858             3.722          -0.205127          -0.505194   \n",
       "4             6.078             3.918           0.233304           0.195879   \n",
       "\n",
       "   rolling_var_1000  \n",
       "0          0.087448  \n",
       "1          0.053633  \n",
       "2          0.071296  \n",
       "3          0.071129  \n",
       "4          0.051987  \n",
       "\n",
       "[5 rows x 40 columns]"
      ]
     },
     "execution_count": 9,
     "metadata": {},
     "output_type": "execute_result"
    }
   ],
   "source": [
    "train_X.head()"
   ]
  },
  {
   "cell_type": "code",
   "execution_count": 10,
   "metadata": {
    "collapsed": false
   },
   "outputs": [
    {
     "data": {
      "text/html": [
       "<div>\n",
       "<style scoped>\n",
       "    .dataframe tbody tr th:only-of-type {\n",
       "        vertical-align: middle;\n",
       "    }\n",
       "\n",
       "    .dataframe tbody tr th {\n",
       "        vertical-align: top;\n",
       "    }\n",
       "\n",
       "    .dataframe thead th {\n",
       "        text-align: right;\n",
       "    }\n",
       "</style>\n",
       "<table border=\"1\" class=\"dataframe\">\n",
       "  <thead>\n",
       "    <tr style=\"text-align: right;\">\n",
       "      <th></th>\n",
       "      <th>fft_mean</th>\n",
       "      <th>fft_max</th>\n",
       "      <th>fft_min</th>\n",
       "      <th>avg</th>\n",
       "      <th>max</th>\n",
       "      <th>min</th>\n",
       "      <th>skew</th>\n",
       "      <th>kurt</th>\n",
       "      <th>median</th>\n",
       "      <th>var</th>\n",
       "      <th>...</th>\n",
       "      <th>rolling_min_300</th>\n",
       "      <th>rolling_skew_300</th>\n",
       "      <th>rolling_kurt_300</th>\n",
       "      <th>rolling_var_300</th>\n",
       "      <th>rolling_mean_1000</th>\n",
       "      <th>rolling_max_1000</th>\n",
       "      <th>rolling_min_1000</th>\n",
       "      <th>rolling_skew_1000</th>\n",
       "      <th>rolling_kurt_1000</th>\n",
       "      <th>rolling_var_1000</th>\n",
       "    </tr>\n",
       "  </thead>\n",
       "  <tbody>\n",
       "    <tr>\n",
       "      <th>seg_00030f</th>\n",
       "      <td>1254.037936</td>\n",
       "      <td>673767.0</td>\n",
       "      <td>5.404037</td>\n",
       "      <td>4.491780</td>\n",
       "      <td>115.0</td>\n",
       "      <td>-75.0</td>\n",
       "      <td>0.327908</td>\n",
       "      <td>28.837568</td>\n",
       "      <td>4.0</td>\n",
       "      <td>23.948199</td>\n",
       "      <td>...</td>\n",
       "      <td>2.856667</td>\n",
       "      <td>-0.060979</td>\n",
       "      <td>0.422382</td>\n",
       "      <td>0.086757</td>\n",
       "      <td>4.491468</td>\n",
       "      <td>5.495</td>\n",
       "      <td>3.774</td>\n",
       "      <td>-0.161726</td>\n",
       "      <td>0.061229</td>\n",
       "      <td>0.053774</td>\n",
       "    </tr>\n",
       "    <tr>\n",
       "      <th>seg_0012b5</th>\n",
       "      <td>1392.755787</td>\n",
       "      <td>625673.0</td>\n",
       "      <td>1.922947</td>\n",
       "      <td>4.171153</td>\n",
       "      <td>152.0</td>\n",
       "      <td>-140.0</td>\n",
       "      <td>0.295708</td>\n",
       "      <td>56.218955</td>\n",
       "      <td>4.0</td>\n",
       "      <td>35.080027</td>\n",
       "      <td>...</td>\n",
       "      <td>1.930000</td>\n",
       "      <td>0.091128</td>\n",
       "      <td>0.951139</td>\n",
       "      <td>0.090852</td>\n",
       "      <td>4.173633</td>\n",
       "      <td>5.009</td>\n",
       "      <td>3.342</td>\n",
       "      <td>0.010131</td>\n",
       "      <td>-0.085346</td>\n",
       "      <td>0.053321</td>\n",
       "    </tr>\n",
       "    <tr>\n",
       "      <th>seg_00184e</th>\n",
       "      <td>1516.299674</td>\n",
       "      <td>691539.0</td>\n",
       "      <td>1.567219</td>\n",
       "      <td>4.610260</td>\n",
       "      <td>248.0</td>\n",
       "      <td>-193.0</td>\n",
       "      <td>0.428688</td>\n",
       "      <td>162.118284</td>\n",
       "      <td>5.0</td>\n",
       "      <td>48.260671</td>\n",
       "      <td>...</td>\n",
       "      <td>0.436667</td>\n",
       "      <td>0.072951</td>\n",
       "      <td>4.557585</td>\n",
       "      <td>0.101746</td>\n",
       "      <td>4.612455</td>\n",
       "      <td>6.234</td>\n",
       "      <td>3.544</td>\n",
       "      <td>-0.210958</td>\n",
       "      <td>-0.411439</td>\n",
       "      <td>0.061118</td>\n",
       "    </tr>\n",
       "    <tr>\n",
       "      <th>seg_003339</th>\n",
       "      <td>1127.373974</td>\n",
       "      <td>679721.0</td>\n",
       "      <td>3.308495</td>\n",
       "      <td>4.531473</td>\n",
       "      <td>85.0</td>\n",
       "      <td>-93.0</td>\n",
       "      <td>0.061889</td>\n",
       "      <td>41.241827</td>\n",
       "      <td>5.0</td>\n",
       "      <td>16.926202</td>\n",
       "      <td>...</td>\n",
       "      <td>3.513333</td>\n",
       "      <td>0.175770</td>\n",
       "      <td>0.684681</td>\n",
       "      <td>0.078519</td>\n",
       "      <td>4.532571</td>\n",
       "      <td>5.446</td>\n",
       "      <td>3.889</td>\n",
       "      <td>0.179065</td>\n",
       "      <td>-0.116018</td>\n",
       "      <td>0.050584</td>\n",
       "    </tr>\n",
       "    <tr>\n",
       "      <th>seg_0042cc</th>\n",
       "      <td>1340.070052</td>\n",
       "      <td>619251.0</td>\n",
       "      <td>4.718620</td>\n",
       "      <td>4.128340</td>\n",
       "      <td>177.0</td>\n",
       "      <td>-147.0</td>\n",
       "      <td>0.073898</td>\n",
       "      <td>79.539708</td>\n",
       "      <td>4.0</td>\n",
       "      <td>33.607106</td>\n",
       "      <td>...</td>\n",
       "      <td>2.450000</td>\n",
       "      <td>0.212918</td>\n",
       "      <td>0.697991</td>\n",
       "      <td>0.111619</td>\n",
       "      <td>4.125805</td>\n",
       "      <td>5.027</td>\n",
       "      <td>3.357</td>\n",
       "      <td>0.111537</td>\n",
       "      <td>0.098487</td>\n",
       "      <td>0.075090</td>\n",
       "    </tr>\n",
       "  </tbody>\n",
       "</table>\n",
       "<p>5 rows × 40 columns</p>\n",
       "</div>"
      ],
      "text/plain": [
       "               fft_mean   fft_max   fft_min       avg    max    min      skew  \\\n",
       "seg_00030f  1254.037936  673767.0  5.404037  4.491780  115.0  -75.0  0.327908   \n",
       "seg_0012b5  1392.755787  625673.0  1.922947  4.171153  152.0 -140.0  0.295708   \n",
       "seg_00184e  1516.299674  691539.0  1.567219  4.610260  248.0 -193.0  0.428688   \n",
       "seg_003339  1127.373974  679721.0  3.308495  4.531473   85.0  -93.0  0.061889   \n",
       "seg_0042cc  1340.070052  619251.0  4.718620  4.128340  177.0 -147.0  0.073898   \n",
       "\n",
       "                  kurt  median        var        ...         rolling_min_300  \\\n",
       "seg_00030f   28.837568     4.0  23.948199        ...                2.856667   \n",
       "seg_0012b5   56.218955     4.0  35.080027        ...                1.930000   \n",
       "seg_00184e  162.118284     5.0  48.260671        ...                0.436667   \n",
       "seg_003339   41.241827     5.0  16.926202        ...                3.513333   \n",
       "seg_0042cc   79.539708     4.0  33.607106        ...                2.450000   \n",
       "\n",
       "            rolling_skew_300  rolling_kurt_300  rolling_var_300  \\\n",
       "seg_00030f         -0.060979          0.422382         0.086757   \n",
       "seg_0012b5          0.091128          0.951139         0.090852   \n",
       "seg_00184e          0.072951          4.557585         0.101746   \n",
       "seg_003339          0.175770          0.684681         0.078519   \n",
       "seg_0042cc          0.212918          0.697991         0.111619   \n",
       "\n",
       "            rolling_mean_1000  rolling_max_1000  rolling_min_1000  \\\n",
       "seg_00030f           4.491468             5.495             3.774   \n",
       "seg_0012b5           4.173633             5.009             3.342   \n",
       "seg_00184e           4.612455             6.234             3.544   \n",
       "seg_003339           4.532571             5.446             3.889   \n",
       "seg_0042cc           4.125805             5.027             3.357   \n",
       "\n",
       "            rolling_skew_1000  rolling_kurt_1000  rolling_var_1000  \n",
       "seg_00030f          -0.161726           0.061229          0.053774  \n",
       "seg_0012b5           0.010131          -0.085346          0.053321  \n",
       "seg_00184e          -0.210958          -0.411439          0.061118  \n",
       "seg_003339           0.179065          -0.116018          0.050584  \n",
       "seg_0042cc           0.111537           0.098487          0.075090  \n",
       "\n",
       "[5 rows x 40 columns]"
      ]
     },
     "execution_count": 10,
     "metadata": {},
     "output_type": "execute_result"
    }
   ],
   "source": [
    "test_df.head()"
   ]
  },
  {
   "cell_type": "code",
   "execution_count": 11,
   "metadata": {
    "collapsed": false
   },
   "outputs": [],
   "source": [
    "n_fold = 5\n",
    "folds = KFold(n_splits=n_fold, shuffle=True, random_state=42)"
   ]
  },
  {
   "cell_type": "code",
   "execution_count": 49,
   "metadata": {
    "collapsed": false
   },
   "outputs": [],
   "source": [
    "params = {\n",
    "    'boosting_type': 'gbdt',\n",
    "    'objective': 'regression',\n",
    "    'metric': {'l2', 'l1'},\n",
    "    'num_leaves': 45,\n",
    "    'max_depth':4,\n",
    "    'learning_rate': 0.001,\n",
    "    'feature_fraction': 0.9,\n",
    "    'bagging_fraction': 0.8,\n",
    "    'bagging_freq': 5,\n",
    "    'verbose': 1,\n",
    "    'metric':'mae'\n",
    "}"
   ]
  },
  {
   "cell_type": "code",
   "execution_count": 50,
   "metadata": {
    "collapsed": false
   },
   "outputs": [
    {
     "name": "stdout",
     "output_type": "stream",
     "text": [
      "Training until validation scores don't improve for 1000 rounds.\n",
      "[1000]\ttraining's l1: 2.31449\tvalid_1's l1: 2.39734\n",
      "[2000]\ttraining's l1: 2.12662\tvalid_1's l1: 2.27357\n",
      "[3000]\ttraining's l1: 2.04799\tvalid_1's l1: 2.24755\n",
      "[4000]\ttraining's l1: 1.99655\tvalid_1's l1: 2.23764\n",
      "[5000]\ttraining's l1: 1.95479\tvalid_1's l1: 2.23572\n",
      "[6000]\ttraining's l1: 1.9191\tvalid_1's l1: 2.23417\n",
      "[7000]\ttraining's l1: 1.88327\tvalid_1's l1: 2.23362\n",
      "Early stopping, best iteration is:\n",
      "[6555]\ttraining's l1: 1.89889\tvalid_1's l1: 2.23236\n",
      "Training until validation scores don't improve for 1000 rounds.\n",
      "[1000]\ttraining's l1: 2.31458\tvalid_1's l1: 2.38616\n",
      "[2000]\ttraining's l1: 2.12519\tvalid_1's l1: 2.26667\n",
      "[3000]\ttraining's l1: 2.04643\tvalid_1's l1: 2.23859\n",
      "[4000]\ttraining's l1: 1.99491\tvalid_1's l1: 2.2313\n",
      "[5000]\ttraining's l1: 1.95299\tvalid_1's l1: 2.23158\n",
      "Early stopping, best iteration is:\n",
      "[4426]\ttraining's l1: 1.97657\tvalid_1's l1: 2.23073\n",
      "Training until validation scores don't improve for 1000 rounds.\n",
      "[1000]\ttraining's l1: 2.31423\tvalid_1's l1: 2.4206\n",
      "[2000]\ttraining's l1: 2.12824\tvalid_1's l1: 2.27277\n",
      "[3000]\ttraining's l1: 2.05192\tvalid_1's l1: 2.2398\n",
      "[4000]\ttraining's l1: 2.00144\tvalid_1's l1: 2.23432\n",
      "[5000]\ttraining's l1: 1.95984\tvalid_1's l1: 2.23469\n",
      "Early stopping, best iteration is:\n",
      "[4546]\ttraining's l1: 1.97704\tvalid_1's l1: 2.23334\n",
      "Training until validation scores don't improve for 1000 rounds.\n",
      "[1000]\ttraining's l1: 2.32865\tvalid_1's l1: 2.30779\n",
      "[2000]\ttraining's l1: 2.13298\tvalid_1's l1: 2.19885\n",
      "[3000]\ttraining's l1: 2.05137\tvalid_1's l1: 2.17377\n",
      "[4000]\ttraining's l1: 2.00309\tvalid_1's l1: 2.16844\n",
      "[5000]\ttraining's l1: 1.96278\tvalid_1's l1: 2.16468\n",
      "[6000]\ttraining's l1: 1.92647\tvalid_1's l1: 2.16245\n",
      "[7000]\ttraining's l1: 1.89061\tvalid_1's l1: 2.16268\n",
      "Early stopping, best iteration is:\n",
      "[6275]\ttraining's l1: 1.91744\tvalid_1's l1: 2.16185\n",
      "Training until validation scores don't improve for 1000 rounds.\n",
      "[1000]\ttraining's l1: 2.30347\tvalid_1's l1: 2.4162\n",
      "[2000]\ttraining's l1: 2.11923\tvalid_1's l1: 2.26731\n",
      "[3000]\ttraining's l1: 2.04282\tvalid_1's l1: 2.2337\n",
      "[4000]\ttraining's l1: 1.99202\tvalid_1's l1: 2.22336\n",
      "[5000]\ttraining's l1: 1.95078\tvalid_1's l1: 2.21794\n",
      "[6000]\ttraining's l1: 1.90948\tvalid_1's l1: 2.21481\n",
      "[7000]\ttraining's l1: 1.87535\tvalid_1's l1: 2.21316\n",
      "Early stopping, best iteration is:\n",
      "[6990]\ttraining's l1: 1.87563\tvalid_1's l1: 2.21314\n"
     ]
    }
   ],
   "source": [
    "features_importance = pd.DataFrame({\"features\":train_X.columns,\n",
    "                                    \"importance\":np.zeros(train_X.columns.shape[0])})\n",
    "predictions = pd.DataFrame({\"seg_id\":test_df.index,\"time_to_failure\":np.zeros(test_df.shape[0])})\n",
    "oof = np.zeros(train_X.shape[0])\n",
    "\n",
    "for train_idx,val_idx in folds.split(train_X,train_y):\n",
    "    X_train,y_train = train_X.iloc[train_idx],train_y.iloc[train_idx]\n",
    "    X_val,y_val = train_X.iloc[val_idx],train_y.iloc[val_idx]\n",
    "    \n",
    "    lgb_train = lgb.Dataset(X_train, y_train)\n",
    "    lgb_eval = lgb.Dataset(X_val,y_val, reference=lgb_train)\n",
    "    model = lgb.LGBMRegressor(**params, n_estimators = 20000, n_jobs = -1)\n",
    "    model.fit(X_train,y_train,\n",
    "              eval_set=[(X_train,y_train),(X_val,y_val)], \n",
    "              verbose=1000,\n",
    "              early_stopping_rounds=1000)\n",
    "    \n",
    "    oof[val_idx] = model.predict(X_val, num_iteration=model.best_iteration_)\n",
    "    \n",
    "    features_importance[\"importance\"] += model.feature_importances_\n",
    "    predictions[\"time_to_failure\"] += model.predict(test_df, num_iteration=model.best_iteration_) "
   ]
  },
  {
   "cell_type": "code",
   "execution_count": 51,
   "metadata": {
    "collapsed": false
   },
   "outputs": [
    {
     "data": {
      "text/plain": [
       "2.2142810157387007"
      ]
     },
     "execution_count": 51,
     "metadata": {},
     "output_type": "execute_result"
    }
   ],
   "source": [
    "mean_absolute_error(train_y,oof)"
   ]
  },
  {
   "cell_type": "code",
   "execution_count": 52,
   "metadata": {
    "collapsed": false
   },
   "outputs": [
    {
     "data": {
      "image/png": "[encoded data removed]",
      "text/plain": [
       "<matplotlib.figure.Figure at 0x7f8719d22518>"
      ]
     },
     "metadata": {},
     "output_type": "display_data"
    }
   ],
   "source": [
    "features_importance[\"importance\"] = features_importance[\"importance\"]/5\n",
    "predictions[\"time_to_failure\"] = predictions[\"time_to_failure\"]/5\n",
    "\n",
    "plt.figure(figsize=(16,10))\n",
    "ax = sns.barplot(x=\"importance\", y=\"features\", data=features_importance.sort_values(by=\"importance\",ascending=False))\n"
   ]
  },
  {
   "cell_type": "code",
   "execution_count": 54,
   "metadata": {
    "collapsed": false
   },
   "outputs": [],
   "source": [
    "predictions.to_csv(\"../submissions/submission_lgb_fft.csv\",index=False)"
   ]
  },
  {
   "cell_type": "code",
   "execution_count": null,
   "metadata": {
    "collapsed": true
   },
   "outputs": [],
   "source": []
  }
 ],
 "metadata": {
  "kernelspec": {
   "display_name": "Python 3",
   "language": "python",
   "name": "python3"
  },
  "language_info": {
   "codemirror_mode": {
    "name": "ipython",
    "version": 3
   },
   "file_extension": ".py",
   "mimetype": "text/x-python",
   "name": "python",
   "nbconvert_exporter": "python",
   "pygments_lexer": "ipython3",
   "version": "3.5.2"
  }
 },
 "nbformat": 4,
 "nbformat_minor": 0
}
