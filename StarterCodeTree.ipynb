{
 "cells": [
  {
   "cell_type": "code",
   "execution_count": 1,
   "metadata": {
    "collapsed": false
   },
   "outputs": [],
   "source": [
    "import os\n",
    "from sklearn.tree import DecisionTreeRegressor\n",
    "from sklearn.metrics import mean_absolute_error\n",
    "from sklearn.model_selection import train_test_split\n",
    "from sklearn.preprocessing import StandardScaler\n",
    "from sklearn.model_selection import KFold\n",
    "\n",
    "import pandas as pd\n",
    "import numpy as np \n",
    "import matplotlib.pyplot as plt\n",
    "import seaborn as sns\n",
    "from tqdm import tqdm_notebook\n",
    "from sklearn.tree import export_graphviz\n",
    "import lightgbm as lgb\n",
    "from catboost import CatBoostRegressor\n",
    "import scipy as sp\n",
    "from scipy.fftpack import fft\n",
    "from tsfresh.feature_extraction import feature_calculators\n",
    "\n",
    "\n",
    "import gc\n",
    "%matplotlib inline"
   ]
  },
  {
   "cell_type": "code",
   "execution_count": 2,
   "metadata": {
    "collapsed": false
   },
   "outputs": [
    {
     "name": "stdout",
     "output_type": "stream",
     "text": [
      "CPU times: user 4 µs, sys: 1 µs, total: 5 µs\n",
      "Wall time: 9.78 µs\n"
     ]
    }
   ],
   "source": [
    "%time\n",
    "train_df = pd.read_csv(os.path.join(\"../input\",'train.csv'), dtype={'acoustic_data': np.int16, 'time_to_failure': np.float32})"
   ]
  },
  {
   "cell_type": "code",
   "execution_count": 3,
   "metadata": {
    "collapsed": false
   },
   "outputs": [
    {
     "data": {
      "text/plain": [
       "(629145480, 2)"
      ]
     },
     "execution_count": 3,
     "metadata": {},
     "output_type": "execute_result"
    }
   ],
   "source": [
    "train_df.shape"
   ]
  },
  {
   "cell_type": "code",
   "execution_count": 4,
   "metadata": {
    "collapsed": false,
    "scrolled": true
   },
   "outputs": [
    {
     "name": "stdout",
     "output_type": "stream",
     "text": [
      "Number of segments:  4194\n"
     ]
    }
   ],
   "source": [
    "rows = 150000\n",
    "segments = int(np.floor(train_df.shape[0] / rows))\n",
    "print(\"Number of segments: \", segments)"
   ]
  },
  {
   "cell_type": "code",
   "execution_count": 5,
   "metadata": {
    "collapsed": true
   },
   "outputs": [],
   "source": [
    "#Prepare empty frame\n",
    "train_X = pd.DataFrame(index=range(segments), dtype=np.float64)\n",
    "train_y = pd.DataFrame(index=range(segments), dtype=np.float64, columns=['time_to_failure'])"
   ]
  },
  {
   "cell_type": "code",
   "execution_count": 6,
   "metadata": {
    "collapsed": false
   },
   "outputs": [],
   "source": [
    "def add_statistics(seg_id,feat_name,X,xc,ws=\"\"):\n",
    "    X.loc[seg_id,feat_name + \"_mean\"+ws] = xc.mean()\n",
    "    X.loc[seg_id,feat_name + \"_var\"+ws] = xc.var()\n",
    "    X.loc[seg_id,feat_name + \"_min\"+ws] = xc.min()\n",
    "    X.loc[seg_id,feat_name + \"_max\"+ws] = xc.max()\n",
    "    X.loc[seg_id,feat_name + \"_kurt\"+ws] = xc.kurt()\n",
    "    X.loc[seg_id,feat_name + \"_skew\"+ws] = xc.skew()\n",
    "    X.loc[seg_id,feat_name + \"_sum\"+ws] = xc.sum()\n",
    "    X.loc[seg_id,feat_name + \"_mad\"+ws] = xc.mad()\n",
    "def add_quantiles(seg_id,feat_name,X,xc,ws=\"\"):\n",
    "    quantiles = xc.quantile([0.01,0.02,0.05,0.1,0.9,0.95,0.98,0.99])\n",
    "    X.loc[seg_id,feat_name +\"_1_quantile\"+ws] = quantiles[0.01]\n",
    "    X.loc[seg_id,feat_name +\"_99_quantile\"+ws] = quantiles[0.99]\n",
    "    \n",
    "    X.loc[seg_id,feat_name +\"_2_quantile\"+ws] = quantiles[0.02]\n",
    "    X.loc[seg_id,feat_name +\"_5_quantile\"+ws] = quantiles[0.05]\n",
    "    X.loc[seg_id,feat_name +\"_95_quantile\"+ws] = quantiles[0.95]\n",
    "    X.loc[seg_id,feat_name +\"_98_quantile\"+ws] = quantiles[0.98]\n",
    "    \n",
    "    X.loc[seg_id,feat_name +\"_90_quantile\"+ws] = quantiles[0.9]\n",
    "    X.loc[seg_id,feat_name +\"_10_quantile\"+ws] = quantiles[0.1]\n",
    "    \n",
    "from scipy import signal\n",
    "def create_features(seg_id,seg, X):\n",
    "    xc = seg[\"acoustic_data\"]\n",
    "    \n",
    "    add_statistics(seg_id,\"seg\",X,xc)\n",
    "    add_quantiles(seg_id,\"seg\",X,xc)\n",
    "    \n",
    "    X.loc[seg_id,\"num_abs_peaks_1\"] = feature_calculators.number_peaks(np.abs(xc),1)\n",
    "    X.loc[seg_id,\"num_peaks_1\"] = feature_calculators.number_peaks(np.abs(xc),1)\n",
    "    X.loc[seg_id,\"num_abs_peaks_5\"] = feature_calculators.number_peaks(np.abs(xc),5)\n",
    "    X.loc[seg_id,\"num_peaks_5\"] = feature_calculators.number_peaks(np.abs(xc),5)\n",
    "    X.loc[seg_id,\"num_abs_peaks_30\"] = feature_calculators.number_peaks(np.abs(xc),30)\n",
    "    X.loc[seg_id,\"num_peaks_30\"] = feature_calculators.number_peaks(np.abs(xc),30)\n",
    "    \n",
    "    window_sizes = [10,100,500]\n",
    "    for window_size in window_sizes:\n",
    "        xc_rolled = xc.rolling(window_size)\n",
    "        xc_rolled_var = xc_rolled.var().dropna()\n",
    "        ws = str(window_size)\n",
    "        \n",
    "        X.loc[seg_id,\"rollingVar_mean\"] = xc_rolled_var.mean()\n",
    "        add_quantiles(seg_id,\"rollingVar\",X,xc_rolled_var,ws=ws)"
   ]
  },
  {
   "cell_type": "code",
   "execution_count": 7,
   "metadata": {
    "collapsed": true
   },
   "outputs": [],
   "source": [
    "def earthquake_in_segment(seg):\n",
    "    return (seg[\"time_to_failure\"] - seg[\"time_to_failure\"].shift()).max()>1"
   ]
  },
  {
   "cell_type": "code",
   "execution_count": 8,
   "metadata": {
    "collapsed": false
   },
   "outputs": [
    {
     "ename": "KeyboardInterrupt",
     "evalue": "",
     "output_type": "error",
     "traceback": [
      "\u001b[1;31m---------------------------------------------------------------------------\u001b[0m",
      "\u001b[1;31mKeyboardInterrupt\u001b[0m                         Traceback (most recent call last)",
      "\u001b[1;32m<ipython-input-8-60b8777ba2ab>\u001b[0m in \u001b[0;36m<module>\u001b[1;34m()\u001b[0m\n\u001b[0;32m      1\u001b[0m \u001b[1;32mfor\u001b[0m \u001b[0mseg_id\u001b[0m \u001b[1;32min\u001b[0m \u001b[0mtqdm_notebook\u001b[0m\u001b[1;33m(\u001b[0m\u001b[0mrange\u001b[0m\u001b[1;33m(\u001b[0m\u001b[0msegments\u001b[0m\u001b[1;33m)\u001b[0m\u001b[1;33m)\u001b[0m\u001b[1;33m:\u001b[0m\u001b[1;33m\u001b[0m\u001b[0m\n\u001b[0;32m      2\u001b[0m     \u001b[0mseg\u001b[0m \u001b[1;33m=\u001b[0m \u001b[0mtrain_df\u001b[0m\u001b[1;33m.\u001b[0m\u001b[0miloc\u001b[0m\u001b[1;33m[\u001b[0m\u001b[0mseg_id\u001b[0m\u001b[1;33m*\u001b[0m\u001b[0mrows\u001b[0m\u001b[1;33m:\u001b[0m\u001b[0mseg_id\u001b[0m\u001b[1;33m*\u001b[0m\u001b[0mrows\u001b[0m\u001b[1;33m+\u001b[0m\u001b[0mrows\u001b[0m\u001b[1;33m]\u001b[0m\u001b[1;33m\u001b[0m\u001b[0m\n\u001b[1;32m----> 3\u001b[1;33m     \u001b[0mcreate_features\u001b[0m\u001b[1;33m(\u001b[0m\u001b[0mseg_id\u001b[0m\u001b[1;33m,\u001b[0m \u001b[0mseg\u001b[0m\u001b[1;33m,\u001b[0m\u001b[0mtrain_X\u001b[0m\u001b[1;33m)\u001b[0m\u001b[1;33m\u001b[0m\u001b[0m\n\u001b[0m\u001b[0;32m      4\u001b[0m     \u001b[0mtrain_y\u001b[0m\u001b[1;33m.\u001b[0m\u001b[0mloc\u001b[0m\u001b[1;33m[\u001b[0m\u001b[0mseg_id\u001b[0m\u001b[1;33m,\u001b[0m \u001b[1;34m'time_to_failure'\u001b[0m\u001b[1;33m]\u001b[0m \u001b[1;33m=\u001b[0m \u001b[0mseg\u001b[0m\u001b[1;33m[\u001b[0m\u001b[1;34m'time_to_failure'\u001b[0m\u001b[1;33m]\u001b[0m\u001b[1;33m.\u001b[0m\u001b[0mvalues\u001b[0m\u001b[1;33m[\u001b[0m\u001b[1;33m-\u001b[0m\u001b[1;36m1\u001b[0m\u001b[1;33m]\u001b[0m\u001b[1;33m\u001b[0m\u001b[0m\n",
      "\u001b[1;32m<ipython-input-6-831f2514cdeb>\u001b[0m in \u001b[0;36mcreate_features\u001b[1;34m(seg_id, seg, X)\u001b[0m\n\u001b[0;32m     32\u001b[0m     \u001b[0mX\u001b[0m\u001b[1;33m.\u001b[0m\u001b[0mloc\u001b[0m\u001b[1;33m[\u001b[0m\u001b[0mseg_id\u001b[0m\u001b[1;33m,\u001b[0m\u001b[1;34m\"num_abs_peaks_5\"\u001b[0m\u001b[1;33m]\u001b[0m \u001b[1;33m=\u001b[0m \u001b[0mfeature_calculators\u001b[0m\u001b[1;33m.\u001b[0m\u001b[0mnumber_peaks\u001b[0m\u001b[1;33m(\u001b[0m\u001b[0mnp\u001b[0m\u001b[1;33m.\u001b[0m\u001b[0mabs\u001b[0m\u001b[1;33m(\u001b[0m\u001b[0mxc\u001b[0m\u001b[1;33m)\u001b[0m\u001b[1;33m,\u001b[0m\u001b[1;36m5\u001b[0m\u001b[1;33m)\u001b[0m\u001b[1;33m\u001b[0m\u001b[0m\n\u001b[0;32m     33\u001b[0m     \u001b[0mX\u001b[0m\u001b[1;33m.\u001b[0m\u001b[0mloc\u001b[0m\u001b[1;33m[\u001b[0m\u001b[0mseg_id\u001b[0m\u001b[1;33m,\u001b[0m\u001b[1;34m\"num_peaks_5\"\u001b[0m\u001b[1;33m]\u001b[0m \u001b[1;33m=\u001b[0m \u001b[0mfeature_calculators\u001b[0m\u001b[1;33m.\u001b[0m\u001b[0mnumber_peaks\u001b[0m\u001b[1;33m(\u001b[0m\u001b[0mnp\u001b[0m\u001b[1;33m.\u001b[0m\u001b[0mabs\u001b[0m\u001b[1;33m(\u001b[0m\u001b[0mxc\u001b[0m\u001b[1;33m)\u001b[0m\u001b[1;33m,\u001b[0m\u001b[1;36m5\u001b[0m\u001b[1;33m)\u001b[0m\u001b[1;33m\u001b[0m\u001b[0m\n\u001b[1;32m---> 34\u001b[1;33m     \u001b[0mX\u001b[0m\u001b[1;33m.\u001b[0m\u001b[0mloc\u001b[0m\u001b[1;33m[\u001b[0m\u001b[0mseg_id\u001b[0m\u001b[1;33m,\u001b[0m\u001b[1;34m\"num_abs_peaks_30\"\u001b[0m\u001b[1;33m]\u001b[0m \u001b[1;33m=\u001b[0m \u001b[0mfeature_calculators\u001b[0m\u001b[1;33m.\u001b[0m\u001b[0mnumber_peaks\u001b[0m\u001b[1;33m(\u001b[0m\u001b[0mnp\u001b[0m\u001b[1;33m.\u001b[0m\u001b[0mabs\u001b[0m\u001b[1;33m(\u001b[0m\u001b[0mxc\u001b[0m\u001b[1;33m)\u001b[0m\u001b[1;33m,\u001b[0m\u001b[1;36m30\u001b[0m\u001b[1;33m)\u001b[0m\u001b[1;33m\u001b[0m\u001b[0m\n\u001b[0m\u001b[0;32m     35\u001b[0m     \u001b[0mX\u001b[0m\u001b[1;33m.\u001b[0m\u001b[0mloc\u001b[0m\u001b[1;33m[\u001b[0m\u001b[0mseg_id\u001b[0m\u001b[1;33m,\u001b[0m\u001b[1;34m\"num_peaks_30\"\u001b[0m\u001b[1;33m]\u001b[0m \u001b[1;33m=\u001b[0m \u001b[0mfeature_calculators\u001b[0m\u001b[1;33m.\u001b[0m\u001b[0mnumber_peaks\u001b[0m\u001b[1;33m(\u001b[0m\u001b[0mnp\u001b[0m\u001b[1;33m.\u001b[0m\u001b[0mabs\u001b[0m\u001b[1;33m(\u001b[0m\u001b[0mxc\u001b[0m\u001b[1;33m)\u001b[0m\u001b[1;33m,\u001b[0m\u001b[1;36m30\u001b[0m\u001b[1;33m)\u001b[0m\u001b[1;33m\u001b[0m\u001b[0m\n\u001b[0;32m     36\u001b[0m \u001b[1;33m\u001b[0m\u001b[0m\n",
      "\u001b[1;32m/usr/local/lib/python3.5/dist-packages/tsfresh/feature_extraction/feature_calculators.py\u001b[0m in \u001b[0;36mnumber_peaks\u001b[1;34m(x, n)\u001b[0m\n\u001b[0;32m   1093\u001b[0m     \u001b[0mres\u001b[0m \u001b[1;33m=\u001b[0m \u001b[1;32mNone\u001b[0m\u001b[1;33m\u001b[0m\u001b[0m\n\u001b[0;32m   1094\u001b[0m     \u001b[1;32mfor\u001b[0m \u001b[0mi\u001b[0m \u001b[1;32min\u001b[0m \u001b[0mrange\u001b[0m\u001b[1;33m(\u001b[0m\u001b[1;36m1\u001b[0m\u001b[1;33m,\u001b[0m \u001b[0mn\u001b[0m \u001b[1;33m+\u001b[0m \u001b[1;36m1\u001b[0m\u001b[1;33m)\u001b[0m\u001b[1;33m:\u001b[0m\u001b[1;33m\u001b[0m\u001b[0m\n\u001b[1;32m-> 1095\u001b[1;33m         \u001b[0mresult_first\u001b[0m \u001b[1;33m=\u001b[0m \u001b[1;33m(\u001b[0m\u001b[0mx_reduced\u001b[0m \u001b[1;33m>\u001b[0m \u001b[0m_roll\u001b[0m\u001b[1;33m(\u001b[0m\u001b[0mx\u001b[0m\u001b[1;33m,\u001b[0m \u001b[0mi\u001b[0m\u001b[1;33m)\u001b[0m\u001b[1;33m[\u001b[0m\u001b[0mn\u001b[0m\u001b[1;33m:\u001b[0m\u001b[1;33m-\u001b[0m\u001b[0mn\u001b[0m\u001b[1;33m]\u001b[0m\u001b[1;33m)\u001b[0m\u001b[1;33m\u001b[0m\u001b[0m\n\u001b[0m\u001b[0;32m   1096\u001b[0m \u001b[1;33m\u001b[0m\u001b[0m\n\u001b[0;32m   1097\u001b[0m         \u001b[1;32mif\u001b[0m \u001b[0mres\u001b[0m \u001b[1;32mis\u001b[0m \u001b[1;32mNone\u001b[0m\u001b[1;33m:\u001b[0m\u001b[1;33m\u001b[0m\u001b[0m\n",
      "\u001b[1;32m/usr/local/lib/python3.5/dist-packages/pandas/core/ops.py\u001b[0m in \u001b[0;36mwrapper\u001b[1;34m(self, other, axis)\u001b[0m\n\u001b[0;32m   1253\u001b[0m                 \u001b[1;32mraise\u001b[0m \u001b[0mValueError\u001b[0m\u001b[1;33m(\u001b[0m\u001b[1;34m'Lengths must match to compare'\u001b[0m\u001b[1;33m)\u001b[0m\u001b[1;33m\u001b[0m\u001b[0m\n\u001b[0;32m   1254\u001b[0m \u001b[1;33m\u001b[0m\u001b[0m\n\u001b[1;32m-> 1255\u001b[1;33m             \u001b[0mres_values\u001b[0m \u001b[1;33m=\u001b[0m \u001b[0mna_op\u001b[0m\u001b[1;33m(\u001b[0m\u001b[0mself\u001b[0m\u001b[1;33m.\u001b[0m\u001b[0mvalues\u001b[0m\u001b[1;33m,\u001b[0m \u001b[0mnp\u001b[0m\u001b[1;33m.\u001b[0m\u001b[0masarray\u001b[0m\u001b[1;33m(\u001b[0m\u001b[0mother\u001b[0m\u001b[1;33m)\u001b[0m\u001b[1;33m)\u001b[0m\u001b[1;33m\u001b[0m\u001b[0m\n\u001b[0m\u001b[0;32m   1256\u001b[0m             \u001b[0mresult\u001b[0m \u001b[1;33m=\u001b[0m \u001b[0mself\u001b[0m\u001b[1;33m.\u001b[0m\u001b[0m_constructor\u001b[0m\u001b[1;33m(\u001b[0m\u001b[0mres_values\u001b[0m\u001b[1;33m,\u001b[0m \u001b[0mindex\u001b[0m\u001b[1;33m=\u001b[0m\u001b[0mself\u001b[0m\u001b[1;33m.\u001b[0m\u001b[0mindex\u001b[0m\u001b[1;33m)\u001b[0m\u001b[1;33m\u001b[0m\u001b[0m\n\u001b[0;32m   1257\u001b[0m             \u001b[1;31m# rename is needed in case res_name is None and self.name\u001b[0m\u001b[1;33m\u001b[0m\u001b[1;33m\u001b[0m\u001b[0m\n",
      "\u001b[1;32m/usr/local/lib/python3.5/dist-packages/pandas/core/ops.py\u001b[0m in \u001b[0;36mna_op\u001b[1;34m(x, y)\u001b[0m\n\u001b[0;32m   1164\u001b[0m             \u001b[0mmethod\u001b[0m \u001b[1;33m=\u001b[0m \u001b[0mgetattr\u001b[0m\u001b[1;33m(\u001b[0m\u001b[0mx\u001b[0m\u001b[1;33m,\u001b[0m \u001b[0mop_name\u001b[0m\u001b[1;33m,\u001b[0m \u001b[1;32mNone\u001b[0m\u001b[1;33m)\u001b[0m\u001b[1;33m\u001b[0m\u001b[0m\n\u001b[0;32m   1165\u001b[0m             \u001b[1;32mif\u001b[0m \u001b[0mmethod\u001b[0m \u001b[1;32mis\u001b[0m \u001b[1;32mnot\u001b[0m \u001b[1;32mNone\u001b[0m\u001b[1;33m:\u001b[0m\u001b[1;33m\u001b[0m\u001b[0m\n\u001b[1;32m-> 1166\u001b[1;33m                 \u001b[1;32mwith\u001b[0m \u001b[0mnp\u001b[0m\u001b[1;33m.\u001b[0m\u001b[0merrstate\u001b[0m\u001b[1;33m(\u001b[0m\u001b[0mall\u001b[0m\u001b[1;33m=\u001b[0m\u001b[1;34m'ignore'\u001b[0m\u001b[1;33m)\u001b[0m\u001b[1;33m:\u001b[0m\u001b[1;33m\u001b[0m\u001b[0m\n\u001b[0m\u001b[0;32m   1167\u001b[0m                     \u001b[0mresult\u001b[0m \u001b[1;33m=\u001b[0m \u001b[0mmethod\u001b[0m\u001b[1;33m(\u001b[0m\u001b[0my\u001b[0m\u001b[1;33m)\u001b[0m\u001b[1;33m\u001b[0m\u001b[0m\n\u001b[0;32m   1168\u001b[0m                 \u001b[1;32mif\u001b[0m \u001b[0mresult\u001b[0m \u001b[1;32mis\u001b[0m \u001b[0mNotImplemented\u001b[0m\u001b[1;33m:\u001b[0m\u001b[1;33m\u001b[0m\u001b[0m\n",
      "\u001b[1;32m/usr/local/lib/python3.5/dist-packages/numpy/core/numeric.py\u001b[0m in \u001b[0;36m__init__\u001b[1;34m(self, **kwargs)\u001b[0m\n\u001b[0;32m   2851\u001b[0m     \u001b[1;31m# without a from __future__ import with_statement\u001b[0m\u001b[1;33m\u001b[0m\u001b[1;33m\u001b[0m\u001b[0m\n\u001b[0;32m   2852\u001b[0m \u001b[1;33m\u001b[0m\u001b[0m\n\u001b[1;32m-> 2853\u001b[1;33m     \u001b[1;32mdef\u001b[0m \u001b[0m__init__\u001b[0m\u001b[1;33m(\u001b[0m\u001b[0mself\u001b[0m\u001b[1;33m,\u001b[0m \u001b[1;33m**\u001b[0m\u001b[0mkwargs\u001b[0m\u001b[1;33m)\u001b[0m\u001b[1;33m:\u001b[0m\u001b[1;33m\u001b[0m\u001b[0m\n\u001b[0m\u001b[0;32m   2854\u001b[0m         \u001b[0mself\u001b[0m\u001b[1;33m.\u001b[0m\u001b[0mcall\u001b[0m \u001b[1;33m=\u001b[0m \u001b[0mkwargs\u001b[0m\u001b[1;33m.\u001b[0m\u001b[0mpop\u001b[0m\u001b[1;33m(\u001b[0m\u001b[1;34m'call'\u001b[0m\u001b[1;33m,\u001b[0m \u001b[0m_Unspecified\u001b[0m\u001b[1;33m)\u001b[0m\u001b[1;33m\u001b[0m\u001b[0m\n\u001b[0;32m   2855\u001b[0m         \u001b[0mself\u001b[0m\u001b[1;33m.\u001b[0m\u001b[0mkwargs\u001b[0m \u001b[1;33m=\u001b[0m \u001b[0mkwargs\u001b[0m\u001b[1;33m\u001b[0m\u001b[0m\n",
      "\u001b[1;31mKeyboardInterrupt\u001b[0m: "
     ]
    }
   ],
   "source": [
    "for seg_id in tqdm_notebook(range(segments)):\n",
    "    seg = train_df.iloc[seg_id*rows:seg_id*rows+rows]\n",
    "    create_features(seg_id, seg,train_X)\n",
    "    train_y.loc[seg_id, 'time_to_failure'] = seg['time_to_failure'].values[-1]    "
   ]
  },
  {
   "cell_type": "code",
   "execution_count": 25,
   "metadata": {
    "collapsed": false,
    "scrolled": true
   },
   "outputs": [],
   "source": [
    "segment_names = [file for file in os.listdir(\"../input\") if file.startswith(\"seg\")]\n",
    "test_df = pd.DataFrame(index=segment_names, dtype=np.float64)\n",
    "test_df.index = test_df.index.str[:-4]\n",
    "def add_features_test(test_df,segment_names):\n",
    "    signals = []\n",
    "    for file in tqdm_notebook(segment_names):\n",
    "        seg_id = file[:-4]\n",
    "        segment = pd.read_csv(os.path.join(\"../input\",file),dtype={'acoustic_data': np.int16})\n",
    "        create_features(seg_id,segment,test_df)\n",
    "\n",
    "add_features_test(test_df,segment_names)"
   ]
  },
  {
   "cell_type": "code",
   "execution_count": 371,
   "metadata": {
    "collapsed": false
   },
   "outputs": [],
   "source": [
    "def drop_columns(train_X,test_df,columns):\n",
    "    train_X.drop(train_X.columns[train_X.columns.str.contains(columns)],axis=1,inplace=True)\n",
    "    test_df.drop(test_df.columns[test_df.columns.str.contains(columns)],axis=1,inplace=True)\n",
    "drop_columns(train_X,test_df,\"kstat\")"
   ]
  },
  {
   "cell_type": "code",
   "execution_count": 26,
   "metadata": {
    "collapsed": false
   },
   "outputs": [
    {
     "data": {
      "text/plain": [
       "array(['seg_mean', 'seg_var', 'seg_min', 'seg_max', 'seg_kurt',\n",
       "       'seg_skew', 'seg_sum', 'seg_mad', 'seg_1_quantile',\n",
       "       'seg_99_quantile', 'seg_2_quantile', 'seg_5_quantile',\n",
       "       'seg_95_quantile', 'seg_98_quantile', 'seg_90_quantile',\n",
       "       'seg_10_quantile', 'num_abs_peaks_1', 'num_peaks_1',\n",
       "       'num_abs_peaks_5', 'num_peaks_5', 'num_abs_peaks_30',\n",
       "       'num_peaks_30', 'rollingVar_mean', 'rollingVar_1_quantile10',\n",
       "       'rollingVar_99_quantile10', 'rollingVar_2_quantile10',\n",
       "       'rollingVar_5_quantile10', 'rollingVar_95_quantile10',\n",
       "       'rollingVar_98_quantile10', 'rollingVar_90_quantile10',\n",
       "       'rollingVar_10_quantile10', 'rollingVar_1_quantile100',\n",
       "       'rollingVar_99_quantile100', 'rollingVar_2_quantile100',\n",
       "       'rollingVar_5_quantile100', 'rollingVar_95_quantile100',\n",
       "       'rollingVar_98_quantile100', 'rollingVar_90_quantile100',\n",
       "       'rollingVar_10_quantile100', 'rollingVar_1_quantile500',\n",
       "       'rollingVar_99_quantile500', 'rollingVar_2_quantile500',\n",
       "       'rollingVar_5_quantile500', 'rollingVar_95_quantile500',\n",
       "       'rollingVar_98_quantile500', 'rollingVar_90_quantile500',\n",
       "       'rollingVar_10_quantile500'], dtype=object)"
      ]
     },
     "execution_count": 26,
     "metadata": {},
     "output_type": "execute_result"
    }
   ],
   "source": [
    "train_X.columns.values\n",
    "# train_X = train_X.drop(columns=['num_peaks_50','num_peaks_500'])"
   ]
  },
  {
   "cell_type": "code",
   "execution_count": 27,
   "metadata": {
    "collapsed": false
   },
   "outputs": [
    {
     "data": {
      "text/html": [
       "<div>\n",
       "<style scoped>\n",
       "    .dataframe tbody tr th:only-of-type {\n",
       "        vertical-align: middle;\n",
       "    }\n",
       "\n",
       "    .dataframe tbody tr th {\n",
       "        vertical-align: top;\n",
       "    }\n",
       "\n",
       "    .dataframe thead th {\n",
       "        text-align: right;\n",
       "    }\n",
       "</style>\n",
       "<table border=\"1\" class=\"dataframe\">\n",
       "  <thead>\n",
       "    <tr style=\"text-align: right;\">\n",
       "      <th></th>\n",
       "      <th>seg_mean</th>\n",
       "      <th>seg_var</th>\n",
       "      <th>seg_min</th>\n",
       "      <th>seg_max</th>\n",
       "      <th>seg_kurt</th>\n",
       "      <th>seg_skew</th>\n",
       "      <th>seg_sum</th>\n",
       "      <th>seg_mad</th>\n",
       "      <th>seg_1_quantile</th>\n",
       "      <th>seg_99_quantile</th>\n",
       "      <th>...</th>\n",
       "      <th>rollingVar_90_quantile100</th>\n",
       "      <th>rollingVar_10_quantile100</th>\n",
       "      <th>rollingVar_1_quantile500</th>\n",
       "      <th>rollingVar_99_quantile500</th>\n",
       "      <th>rollingVar_2_quantile500</th>\n",
       "      <th>rollingVar_5_quantile500</th>\n",
       "      <th>rollingVar_95_quantile500</th>\n",
       "      <th>rollingVar_98_quantile500</th>\n",
       "      <th>rollingVar_90_quantile500</th>\n",
       "      <th>rollingVar_10_quantile500</th>\n",
       "    </tr>\n",
       "  </thead>\n",
       "  <tbody>\n",
       "    <tr>\n",
       "      <th>seg_00030f</th>\n",
       "      <td>4.491780</td>\n",
       "      <td>23.948199</td>\n",
       "      <td>-75.0</td>\n",
       "      <td>115.0</td>\n",
       "      <td>28.837568</td>\n",
       "      <td>0.327908</td>\n",
       "      <td>673767.0</td>\n",
       "      <td>3.248521</td>\n",
       "      <td>-8.0</td>\n",
       "      <td>18.0</td>\n",
       "      <td>...</td>\n",
       "      <td>34.212121</td>\n",
       "      <td>6.856970</td>\n",
       "      <td>6.563543</td>\n",
       "      <td>209.068040</td>\n",
       "      <td>6.797671</td>\n",
       "      <td>7.180265</td>\n",
       "      <td>82.244244</td>\n",
       "      <td>143.226052</td>\n",
       "      <td>36.468713</td>\n",
       "      <td>7.618100</td>\n",
       "    </tr>\n",
       "    <tr>\n",
       "      <th>seg_0012b5</th>\n",
       "      <td>4.171153</td>\n",
       "      <td>35.080027</td>\n",
       "      <td>-140.0</td>\n",
       "      <td>152.0</td>\n",
       "      <td>56.218955</td>\n",
       "      <td>0.295708</td>\n",
       "      <td>625673.0</td>\n",
       "      <td>3.429208</td>\n",
       "      <td>-12.0</td>\n",
       "      <td>20.0</td>\n",
       "      <td>...</td>\n",
       "      <td>40.244848</td>\n",
       "      <td>6.629899</td>\n",
       "      <td>6.633663</td>\n",
       "      <td>608.173643</td>\n",
       "      <td>6.782441</td>\n",
       "      <td>7.109655</td>\n",
       "      <td>105.670317</td>\n",
       "      <td>344.335407</td>\n",
       "      <td>49.083523</td>\n",
       "      <td>7.398842</td>\n",
       "    </tr>\n",
       "    <tr>\n",
       "      <th>seg_00184e</th>\n",
       "      <td>4.610260</td>\n",
       "      <td>48.260671</td>\n",
       "      <td>-193.0</td>\n",
       "      <td>248.0</td>\n",
       "      <td>162.118284</td>\n",
       "      <td>0.428688</td>\n",
       "      <td>691539.0</td>\n",
       "      <td>3.461984</td>\n",
       "      <td>-11.0</td>\n",
       "      <td>20.0</td>\n",
       "      <td>...</td>\n",
       "      <td>38.267778</td>\n",
       "      <td>6.563535</td>\n",
       "      <td>6.506112</td>\n",
       "      <td>724.232561</td>\n",
       "      <td>6.673743</td>\n",
       "      <td>6.913711</td>\n",
       "      <td>91.353792</td>\n",
       "      <td>448.264625</td>\n",
       "      <td>43.104385</td>\n",
       "      <td>7.210497</td>\n",
       "    </tr>\n",
       "    <tr>\n",
       "      <th>seg_003339</th>\n",
       "      <td>4.531473</td>\n",
       "      <td>16.926202</td>\n",
       "      <td>-93.0</td>\n",
       "      <td>85.0</td>\n",
       "      <td>41.241827</td>\n",
       "      <td>0.061889</td>\n",
       "      <td>679721.0</td>\n",
       "      <td>2.678503</td>\n",
       "      <td>-5.0</td>\n",
       "      <td>14.0</td>\n",
       "      <td>...</td>\n",
       "      <td>15.182222</td>\n",
       "      <td>6.046364</td>\n",
       "      <td>6.184786</td>\n",
       "      <td>204.907190</td>\n",
       "      <td>6.353711</td>\n",
       "      <td>6.561122</td>\n",
       "      <td>50.632862</td>\n",
       "      <td>118.584733</td>\n",
       "      <td>19.881619</td>\n",
       "      <td>6.765932</td>\n",
       "    </tr>\n",
       "    <tr>\n",
       "      <th>seg_0042cc</th>\n",
       "      <td>4.128340</td>\n",
       "      <td>33.607106</td>\n",
       "      <td>-147.0</td>\n",
       "      <td>177.0</td>\n",
       "      <td>79.539708</td>\n",
       "      <td>0.073898</td>\n",
       "      <td>619251.0</td>\n",
       "      <td>3.283856</td>\n",
       "      <td>-10.0</td>\n",
       "      <td>19.0</td>\n",
       "      <td>...</td>\n",
       "      <td>37.939394</td>\n",
       "      <td>6.397071</td>\n",
       "      <td>6.290982</td>\n",
       "      <td>621.783792</td>\n",
       "      <td>6.477130</td>\n",
       "      <td>6.758253</td>\n",
       "      <td>98.734633</td>\n",
       "      <td>233.079836</td>\n",
       "      <td>49.625150</td>\n",
       "      <td>7.017792</td>\n",
       "    </tr>\n",
       "  </tbody>\n",
       "</table>\n",
       "<p>5 rows × 47 columns</p>\n",
       "</div>"
      ],
      "text/plain": [
       "            seg_mean    seg_var  seg_min  seg_max    seg_kurt  seg_skew  \\\n",
       "seg_00030f  4.491780  23.948199    -75.0    115.0   28.837568  0.327908   \n",
       "seg_0012b5  4.171153  35.080027   -140.0    152.0   56.218955  0.295708   \n",
       "seg_00184e  4.610260  48.260671   -193.0    248.0  162.118284  0.428688   \n",
       "seg_003339  4.531473  16.926202    -93.0     85.0   41.241827  0.061889   \n",
       "seg_0042cc  4.128340  33.607106   -147.0    177.0   79.539708  0.073898   \n",
       "\n",
       "             seg_sum   seg_mad  seg_1_quantile  seg_99_quantile  \\\n",
       "seg_00030f  673767.0  3.248521            -8.0             18.0   \n",
       "seg_0012b5  625673.0  3.429208           -12.0             20.0   \n",
       "seg_00184e  691539.0  3.461984           -11.0             20.0   \n",
       "seg_003339  679721.0  2.678503            -5.0             14.0   \n",
       "seg_0042cc  619251.0  3.283856           -10.0             19.0   \n",
       "\n",
       "                      ...              rollingVar_90_quantile100  \\\n",
       "seg_00030f            ...                              34.212121   \n",
       "seg_0012b5            ...                              40.244848   \n",
       "seg_00184e            ...                              38.267778   \n",
       "seg_003339            ...                              15.182222   \n",
       "seg_0042cc            ...                              37.939394   \n",
       "\n",
       "            rollingVar_10_quantile100  rollingVar_1_quantile500  \\\n",
       "seg_00030f                   6.856970                  6.563543   \n",
       "seg_0012b5                   6.629899                  6.633663   \n",
       "seg_00184e                   6.563535                  6.506112   \n",
       "seg_003339                   6.046364                  6.184786   \n",
       "seg_0042cc                   6.397071                  6.290982   \n",
       "\n",
       "            rollingVar_99_quantile500  rollingVar_2_quantile500  \\\n",
       "seg_00030f                 209.068040                  6.797671   \n",
       "seg_0012b5                 608.173643                  6.782441   \n",
       "seg_00184e                 724.232561                  6.673743   \n",
       "seg_003339                 204.907190                  6.353711   \n",
       "seg_0042cc                 621.783792                  6.477130   \n",
       "\n",
       "            rollingVar_5_quantile500  rollingVar_95_quantile500  \\\n",
       "seg_00030f                  7.180265                  82.244244   \n",
       "seg_0012b5                  7.109655                 105.670317   \n",
       "seg_00184e                  6.913711                  91.353792   \n",
       "seg_003339                  6.561122                  50.632862   \n",
       "seg_0042cc                  6.758253                  98.734633   \n",
       "\n",
       "            rollingVar_98_quantile500  rollingVar_90_quantile500  \\\n",
       "seg_00030f                 143.226052                  36.468713   \n",
       "seg_0012b5                 344.335407                  49.083523   \n",
       "seg_00184e                 448.264625                  43.104385   \n",
       "seg_003339                 118.584733                  19.881619   \n",
       "seg_0042cc                 233.079836                  49.625150   \n",
       "\n",
       "            rollingVar_10_quantile500  \n",
       "seg_00030f                   7.618100  \n",
       "seg_0012b5                   7.398842  \n",
       "seg_00184e                   7.210497  \n",
       "seg_003339                   6.765932  \n",
       "seg_0042cc                   7.017792  \n",
       "\n",
       "[5 rows x 47 columns]"
      ]
     },
     "execution_count": 27,
     "metadata": {},
     "output_type": "execute_result"
    }
   ],
   "source": [
    "test_df.head()"
   ]
  },
  {
   "cell_type": "code",
   "execution_count": 28,
   "metadata": {
    "collapsed": true
   },
   "outputs": [],
   "source": [
    "n_fold = 5\n",
    "folds = KFold(n_splits=n_fold, shuffle=True, random_state=42)"
   ]
  },
  {
   "cell_type": "code",
   "execution_count": 29,
   "metadata": {
    "collapsed": true
   },
   "outputs": [],
   "source": [
    "# params = {'lambda_l1': 0.009433246488160846, \n",
    "#           'bagging_freq': 5,\n",
    "#           'verbose': -1,\n",
    "#           'min_data_in_leaf': 11,\n",
    "#           'feature_fraction': 0.6352171439545997, \n",
    "#           'objective': 'regression', \n",
    "#           'lambda_l2': 0.00555203479400822,\n",
    "#           'metric': 'mae', \n",
    "#           'bagging_fraction': 0.5457256925614304,\n",
    "#           'max_depth': -1, \n",
    "#           'learning_rate': 0.005548168959595165, \n",
    "#           'boosting_type': 'rf',\n",
    "#           'num_leaves': 95\n",
    "#          }\n",
    "\n",
    "params = {\n",
    "    'lambda_l1': 0.0024572871712140822, \n",
    "    'bagging_freq': 10,\n",
    "    'verbose': -1,\n",
    "    'min_data_in_leaf': 19,\n",
    "    'feature_fraction': 0.5100197547698974, \n",
    "#     'objective': 'regression', \n",
    "    'objective': 'regression',\n",
    "    'lambda_l2': 0.0014625950769985773, \n",
    "    'metric': 'mae',\n",
    "    'bagging_fraction': 0.6251464764128412, \n",
    "    'max_depth': 10,\n",
    "    'learning_rate': 0.0006717821066793879,\n",
    "    'boosting_type': 'rf',\n",
    "    'num_leaves': 73\n",
    "}\n",
    "# params = {\n",
    "#     'lambda_l1': 0.00524868716055791, \n",
    "#     'bagging_freq': 18, \n",
    "#     'verbose': -1,\n",
    "#     'min_data_in_leaf': 19, \n",
    "#     'feature_fraction': 0.7364883625192207, \n",
    "#     'objective': 'regression', \n",
    "#     'lambda_l2': 0.0010397644006126794, \n",
    "#     'metric': 'mae', \n",
    "#     'bagging_fraction': 0.6946170217511416,\n",
    "#     'max_depth': 14,\n",
    "#     'learning_rate': 0.004957775889359261, \n",
    "#     'boosting_type': 'rf',\n",
    "#     'num_leaves': 71\n",
    "#     }"
   ]
  },
  {
   "cell_type": "code",
   "execution_count": 30,
   "metadata": {
    "collapsed": false,
    "scrolled": true
   },
   "outputs": [
    {
     "name": "stdout",
     "output_type": "stream",
     "text": [
      "Training until validation scores don't improve for 1000 rounds.\n",
      "[1000]\tvalid_0's l1: 2.07733\n",
      "Early stopping, best iteration is:\n",
      "[612]\tvalid_0's l1: 2.07595\n",
      "Training until validation scores don't improve for 1000 rounds.\n",
      "[1000]\tvalid_0's l1: 2.07349\n",
      "Early stopping, best iteration is:\n",
      "[251]\tvalid_0's l1: 2.06479\n",
      "Training until validation scores don't improve for 1000 rounds.\n",
      "[1000]\tvalid_0's l1: 2.01248\n",
      "Early stopping, best iteration is:\n",
      "[180]\tvalid_0's l1: 2.00917\n",
      "Training until validation scores don't improve for 1000 rounds.\n",
      "[1000]\tvalid_0's l1: 2.02553\n",
      "[2000]\tvalid_0's l1: 2.02538\n",
      "Early stopping, best iteration is:\n",
      "[1577]\tvalid_0's l1: 2.02483\n",
      "Training until validation scores don't improve for 1000 rounds.\n",
      "[1000]\tvalid_0's l1: 2.06815\n",
      "Early stopping, best iteration is:\n",
      "[860]\tvalid_0's l1: 2.06686\n"
     ]
    }
   ],
   "source": [
    "features_importance = pd.DataFrame({\"features\":train_X.columns,\n",
    "                                    \"importance\":np.zeros(train_X.columns.shape[0])})\n",
    "predictions = pd.DataFrame({\"seg_id\":test_df.index,\"time_to_failure\":np.zeros(test_df.shape[0])})\n",
    "oof = np.zeros(train_X.shape[0])\n",
    "\n",
    "for train_idx,val_idx in folds.split(train_X,train_y):\n",
    "    X_train,y_train = train_X.iloc[train_idx],train_y.iloc[train_idx]\n",
    "    X_val,y_val = train_X.iloc[val_idx],train_y.iloc[val_idx]\n",
    "    \n",
    "    model = lgb.LGBMRegressor(**params, n_estimators = 20000,n_jobs=-1)\n",
    "    model.fit(X_train,y_train,\n",
    "              eval_set=[(X_val,y_val)], \n",
    "              verbose=1000,\n",
    "              early_stopping_rounds=1000)\n",
    "    \n",
    "    oof[val_idx] = model.predict(X_val, num_iteration=model.best_iteration_)\n",
    "    \n",
    "    features_importance[\"importance\"] += model.feature_importances_\n",
    "    predictions[\"time_to_failure\"] += model.predict(test_df, num_iteration=model.best_iteration_) "
   ]
  },
  {
   "cell_type": "code",
   "execution_count": 35,
   "metadata": {
    "collapsed": false
   },
   "outputs": [
    {
     "name": "stdout",
     "output_type": "stream",
     "text": [
      "0:\tlearn: 5.6564080\ttest: 5.6175926\tbest: 5.6175926 (0)\ttotal: 90ms\tremaining: 11m 59s\n",
      "500:\tlearn: 2.2237996\ttest: 2.2903929\tbest: 2.2903929 (500)\ttotal: 21.6s\tremaining: 5m 22s\n",
      "1000:\tlearn: 1.9358226\ttest: 2.0523315\tbest: 2.0523315 (1000)\ttotal: 44.4s\tremaining: 5m 10s\n",
      "1500:\tlearn: 1.8871296\ttest: 2.0362524\tbest: 2.0362524 (1500)\ttotal: 1m 7s\tremaining: 4m 50s\n",
      "2000:\tlearn: 1.8470452\ttest: 2.0309115\tbest: 2.0308507 (1998)\ttotal: 1m 31s\tremaining: 4m 34s\n",
      "2500:\tlearn: 1.8093056\ttest: 2.0276400\tbest: 2.0276400 (2500)\ttotal: 1m 54s\tremaining: 4m 11s\n",
      "3000:\tlearn: 1.7743943\ttest: 2.0271855\tbest: 2.0268400 (2807)\ttotal: 2m 16s\tremaining: 3m 47s\n",
      "3500:\tlearn: 1.7420246\ttest: 2.0287531\tbest: 2.0268272 (3018)\ttotal: 2m 39s\tremaining: 3m 25s\n",
      "4000:\tlearn: 1.7145201\ttest: 2.0300649\tbest: 2.0268272 (3018)\ttotal: 3m 23s\tremaining: 3m 23s\n",
      "4500:\tlearn: 1.6879583\ttest: 2.0320137\tbest: 2.0268272 (3018)\ttotal: 4m 19s\tremaining: 3m 21s\n",
      "5000:\tlearn: 1.6608489\ttest: 2.0339483\tbest: 2.0268272 (3018)\ttotal: 5m 15s\tremaining: 3m 9s\n",
      "5500:\tlearn: 1.6365364\ttest: 2.0350925\tbest: 2.0268272 (3018)\ttotal: 6m 11s\tremaining: 2m 48s\n",
      "6000:\tlearn: 1.6137714\ttest: 2.0361220\tbest: 2.0268272 (3018)\ttotal: 7m 9s\tremaining: 2m 22s\n",
      "6500:\tlearn: 1.5915517\ttest: 2.0362893\tbest: 2.0268272 (3018)\ttotal: 8m 5s\tremaining: 1m 52s\n",
      "7000:\tlearn: 1.5700950\ttest: 2.0373072\tbest: 2.0268272 (3018)\ttotal: 9m 3s\tremaining: 1m 17s\n",
      "7500:\tlearn: 1.5497929\ttest: 2.0383780\tbest: 2.0268272 (3018)\ttotal: 9m 59s\tremaining: 39.9s\n",
      "7999:\tlearn: 1.5305493\ttest: 2.0387820\tbest: 2.0268272 (3018)\ttotal: 10m 55s\tremaining: 0us\n",
      "\n",
      "bestTest = 2.026827176\n",
      "bestIteration = 3018\n",
      "\n",
      "Shrink model to first 3019 iterations.\n",
      "0:\tlearn: 5.6570627\ttest: 5.6149504\tbest: 5.6149504 (0)\ttotal: 119ms\tremaining: 15m 51s\n",
      "500:\tlearn: 2.2242493\ttest: 2.2926735\tbest: 2.2926735 (500)\ttotal: 57.3s\tremaining: 14m 18s\n",
      "1000:\tlearn: 1.9447050\ttest: 2.0669805\tbest: 2.0669805 (1000)\ttotal: 1m 54s\tremaining: 13m 22s\n",
      "1500:\tlearn: 1.9016113\ttest: 2.0549532\tbest: 2.0548820 (1497)\ttotal: 2m 51s\tremaining: 12m 21s\n",
      "2000:\tlearn: 1.8651711\ttest: 2.0490939\tbest: 2.0490864 (1993)\ttotal: 3m 47s\tremaining: 11m 22s\n",
      "2500:\tlearn: 1.8309818\ttest: 2.0456782\tbest: 2.0454738 (2482)\ttotal: 4m 47s\tremaining: 10m 31s\n",
      "3000:\tlearn: 1.8002281\ttest: 2.0443595\tbest: 2.0442414 (2982)\ttotal: 5m 44s\tremaining: 9m 33s\n",
      "3500:\tlearn: 1.7712181\ttest: 2.0420748\tbest: 2.0418489 (3477)\ttotal: 6m 41s\tremaining: 8m 35s\n",
      "4000:\tlearn: 1.7409636\ttest: 2.0405347\tbest: 2.0404326 (3983)\ttotal: 7m 38s\tremaining: 7m 38s\n",
      "4500:\tlearn: 1.7112518\ttest: 2.0411408\tbest: 2.0403678 (4027)\ttotal: 8m 35s\tremaining: 6m 40s\n",
      "5000:\tlearn: 1.6844625\ttest: 2.0411358\tbest: 2.0403678 (4027)\ttotal: 9m 32s\tremaining: 5m 43s\n",
      "5500:\tlearn: 1.6585909\ttest: 2.0416113\tbest: 2.0403678 (4027)\ttotal: 10m 29s\tremaining: 4m 46s\n",
      "6000:\tlearn: 1.6338559\ttest: 2.0416689\tbest: 2.0403678 (4027)\ttotal: 11m 27s\tremaining: 3m 48s\n",
      "6500:\tlearn: 1.6106693\ttest: 2.0415571\tbest: 2.0403678 (4027)\ttotal: 12m 24s\tremaining: 2m 51s\n",
      "7000:\tlearn: 1.5876511\ttest: 2.0409948\tbest: 2.0403678 (4027)\ttotal: 13m 21s\tremaining: 1m 54s\n",
      "7500:\tlearn: 1.5663235\ttest: 2.0406753\tbest: 2.0403678 (4027)\ttotal: 14m 18s\tremaining: 57.1s\n",
      "7999:\tlearn: 1.5453493\ttest: 2.0401712\tbest: 2.0400556 (7945)\ttotal: 15m 15s\tremaining: 0us\n",
      "\n",
      "bestTest = 2.040055585\n",
      "bestIteration = 7945\n",
      "\n",
      "Shrink model to first 7946 iterations.\n",
      "0:\tlearn: 5.6826345\ttest: 5.5127515\tbest: 5.5127515 (0)\ttotal: 111ms\tremaining: 14m 47s\n",
      "500:\tlearn: 2.2517190\ttest: 2.1759554\tbest: 2.1759554 (500)\ttotal: 56.6s\tremaining: 14m 6s\n",
      "1000:\tlearn: 1.9499130\ttest: 1.9720498\tbest: 1.9718939 (981)\ttotal: 1m 52s\tremaining: 13m 9s\n",
      "1500:\tlearn: 1.9066703\ttest: 1.9711671\tbest: 1.9704727 (1288)\ttotal: 2m 48s\tremaining: 12m 8s\n",
      "2000:\tlearn: 1.8711420\ttest: 1.9719620\tbest: 1.9704359 (1725)\ttotal: 3m 43s\tremaining: 11m 11s\n",
      "2500:\tlearn: 1.8381777\ttest: 1.9720942\tbest: 1.9704359 (1725)\ttotal: 4m 39s\tremaining: 10m 14s\n",
      "3000:\tlearn: 1.8065189\ttest: 1.9704421\tbest: 1.9701534 (2846)\ttotal: 5m 35s\tremaining: 9m 18s\n",
      "3500:\tlearn: 1.7760582\ttest: 1.9700977\tbest: 1.9699048 (3318)\ttotal: 6m 31s\tremaining: 8m 22s\n",
      "4000:\tlearn: 1.7463818\ttest: 1.9701796\tbest: 1.9697197 (3957)\ttotal: 7m 27s\tremaining: 7m 26s\n",
      "4500:\tlearn: 1.7180268\ttest: 1.9705954\tbest: 1.9697197 (3957)\ttotal: 8m 23s\tremaining: 6m 31s\n",
      "5000:\tlearn: 1.6924668\ttest: 1.9697036\tbest: 1.9696910 (4998)\ttotal: 9m 19s\tremaining: 5m 35s\n",
      "5500:\tlearn: 1.6667984\ttest: 1.9692446\tbest: 1.9688902 (5204)\ttotal: 10m 15s\tremaining: 4m 39s\n",
      "6000:\tlearn: 1.6426447\ttest: 1.9689131\tbest: 1.9686130 (5826)\ttotal: 11m 11s\tremaining: 3m 43s\n",
      "6500:\tlearn: 1.6211663\ttest: 1.9699752\tbest: 1.9685604 (6040)\ttotal: 12m 7s\tremaining: 2m 47s\n",
      "7000:\tlearn: 1.5994958\ttest: 1.9698678\tbest: 1.9685604 (6040)\ttotal: 13m 3s\tremaining: 1m 51s\n",
      "7500:\tlearn: 1.5784677\ttest: 1.9696939\tbest: 1.9685604 (6040)\ttotal: 14m\tremaining: 55.9s\n",
      "7999:\tlearn: 1.5595356\ttest: 1.9691026\tbest: 1.9685604 (6040)\ttotal: 14m 56s\tremaining: 0us\n",
      "\n",
      "bestTest = 1.968560363\n",
      "bestIteration = 6040\n",
      "\n",
      "Shrink model to first 6041 iterations.\n",
      "0:\tlearn: 5.6060041\ttest: 5.8193104\tbest: 5.8193104 (0)\ttotal: 121ms\tremaining: 16m 7s\n",
      "500:\tlearn: 2.2407284\ttest: 2.2359721\tbest: 2.2359721 (500)\ttotal: 56.2s\tremaining: 14m 1s\n",
      "1000:\tlearn: 1.9407042\ttest: 1.9875812\tbest: 1.9874469 (996)\ttotal: 1m 52s\tremaining: 13m 9s\n",
      "1500:\tlearn: 1.8856459\ttest: 1.9865802\tbest: 1.9862172 (1219)\ttotal: 2m 51s\tremaining: 12m 23s\n",
      "2000:\tlearn: 1.8432080\ttest: 1.9898279\tbest: 1.9862172 (1219)\ttotal: 3m 47s\tremaining: 11m 22s\n",
      "2500:\tlearn: 1.8081996\ttest: 1.9939817\tbest: 1.9862172 (1219)\ttotal: 4m 43s\tremaining: 10m 24s\n",
      "3000:\tlearn: 1.7771508\ttest: 1.9944652\tbest: 1.9862172 (1219)\ttotal: 5m 39s\tremaining: 9m 25s\n",
      "3500:\tlearn: 1.7479817\ttest: 1.9967193\tbest: 1.9862172 (1219)\ttotal: 6m 35s\tremaining: 8m 27s\n",
      "4000:\tlearn: 1.7192128\ttest: 1.9991557\tbest: 1.9862172 (1219)\ttotal: 7m 30s\tremaining: 7m 30s\n",
      "4500:\tlearn: 1.6951903\ttest: 1.9993572\tbest: 1.9862172 (1219)\ttotal: 8m 26s\tremaining: 6m 33s\n",
      "5000:\tlearn: 1.6711304\ttest: 1.9986068\tbest: 1.9862172 (1219)\ttotal: 9m 22s\tremaining: 5m 37s\n",
      "5500:\tlearn: 1.6473512\ttest: 1.9998481\tbest: 1.9862172 (1219)\ttotal: 10m 18s\tremaining: 4m 41s\n",
      "6000:\tlearn: 1.6245916\ttest: 2.0006902\tbest: 1.9862172 (1219)\ttotal: 11m 15s\tremaining: 3m 44s\n",
      "6500:\tlearn: 1.6049403\ttest: 2.0010574\tbest: 1.9862172 (1219)\ttotal: 12m 10s\tremaining: 2m 48s\n",
      "7000:\tlearn: 1.5848756\ttest: 2.0019092\tbest: 1.9862172 (1219)\ttotal: 13m 6s\tremaining: 1m 52s\n",
      "7500:\tlearn: 1.5654160\ttest: 2.0026339\tbest: 1.9862172 (1219)\ttotal: 14m 3s\tremaining: 56.1s\n",
      "7999:\tlearn: 1.5460983\ttest: 2.0022841\tbest: 1.9862172 (1219)\ttotal: 14m 59s\tremaining: 0us\n",
      "\n",
      "bestTest = 1.98621715\n",
      "bestIteration = 1219\n",
      "\n",
      "Shrink model to first 1220 iterations.\n",
      "0:\tlearn: 5.6410991\ttest: 5.6788292\tbest: 5.6788292 (0)\ttotal: 115ms\tremaining: 15m 23s\n",
      "500:\tlearn: 2.2103064\ttest: 2.3178370\tbest: 2.3178370 (500)\ttotal: 56s\tremaining: 13m 58s\n",
      "1000:\tlearn: 1.9366701\ttest: 2.0711334\tbest: 2.0711334 (1000)\ttotal: 1m 51s\tremaining: 13m 2s\n",
      "1500:\tlearn: 1.8842580\ttest: 2.0605666\tbest: 2.0605176 (1498)\ttotal: 2m 47s\tremaining: 12m 4s\n",
      "2000:\tlearn: 1.8434703\ttest: 2.0568837\tbest: 2.0568394 (1996)\ttotal: 3m 42s\tremaining: 11m 8s\n",
      "2500:\tlearn: 1.8080466\ttest: 2.0540644\tbest: 2.0539538 (2451)\ttotal: 4m 38s\tremaining: 10m 12s\n",
      "3000:\tlearn: 1.7783187\ttest: 2.0514596\tbest: 2.0514347 (2999)\ttotal: 5m 34s\tremaining: 9m 16s\n",
      "3500:\tlearn: 1.7498626\ttest: 2.0500287\tbest: 2.0496473 (3449)\ttotal: 6m 29s\tremaining: 8m 20s\n",
      "4000:\tlearn: 1.7219249\ttest: 2.0477649\tbest: 2.0476092 (3922)\ttotal: 7m 25s\tremaining: 7m 24s\n",
      "4500:\tlearn: 1.6956944\ttest: 2.0460329\tbest: 2.0458636 (4479)\ttotal: 8m 20s\tremaining: 6m 29s\n",
      "5000:\tlearn: 1.6696723\ttest: 2.0454040\tbest: 2.0449744 (4808)\ttotal: 9m 18s\tremaining: 5m 34s\n",
      "5500:\tlearn: 1.6450109\ttest: 2.0445256\tbest: 2.0445256 (5500)\ttotal: 10m 14s\tremaining: 4m 38s\n",
      "6000:\tlearn: 1.6206509\ttest: 2.0423496\tbest: 2.0423068 (5851)\ttotal: 11m 10s\tremaining: 3m 43s\n",
      "6500:\tlearn: 1.5966870\ttest: 2.0418121\tbest: 2.0415001 (6378)\ttotal: 12m 7s\tremaining: 2m 47s\n",
      "7000:\tlearn: 1.5755748\ttest: 2.0419746\tbest: 2.0414677 (6689)\ttotal: 13m 3s\tremaining: 1m 51s\n",
      "7500:\tlearn: 1.5541622\ttest: 2.0414666\tbest: 2.0412685 (7441)\ttotal: 14m\tremaining: 55.9s\n",
      "7999:\tlearn: 1.5336892\ttest: 2.0413995\tbest: 2.0408352 (7798)\ttotal: 14m 56s\tremaining: 0us\n",
      "\n",
      "bestTest = 2.040835178\n",
      "bestIteration = 7798\n",
      "\n",
      "Shrink model to first 7799 iterations.\n"
     ]
    }
   ],
   "source": [
    "features_importance = pd.DataFrame({\"features\":train_X.columns,\n",
    "                                    \"importance\":np.zeros(train_X.columns.shape[0])})\n",
    "predictions = pd.DataFrame({\"seg_id\":test_df.index,\"time_to_failure\":np.zeros(test_df.shape[0])})\n",
    "oof = np.zeros(train_X.shape[0])\n",
    "params = {'loss_function':'MAE'}\n",
    "\n",
    "for train_idx,val_idx in folds.split(train_X,train_y):\n",
    "    X_train,y_train = train_X.iloc[train_idx],train_y.iloc[train_idx]\n",
    "    X_val,y_val = train_X.iloc[val_idx],train_y.iloc[val_idx]\n",
    "    \n",
    "    model = CatBoostRegressor(iterations=8000,  eval_metric='MAE', **params)\n",
    "    model.fit(X_train,\n",
    "              y_train,\n",
    "              eval_set=(X_val, y_val),\n",
    "              cat_features=[], use_best_model=True, verbose=500)\n",
    "    \n",
    "    oof[val_idx] = model.predict(X_val)\n",
    "    \n",
    "    features_importance[\"importance\"] += model.feature_importances_\n",
    "    predictions[\"time_to_failure\"] += model.predict(test_df) "
   ]
  },
  {
   "cell_type": "code",
   "execution_count": 37,
   "metadata": {
    "collapsed": false
   },
   "outputs": [
    {
     "data": {
      "text/plain": [
       "2.0124985988325257"
      ]
     },
     "execution_count": 37,
     "metadata": {},
     "output_type": "execute_result"
    }
   ],
   "source": [
    "mean_absolute_error(train_y,oof)"
   ]
  },
  {
   "cell_type": "code",
   "execution_count": 33,
   "metadata": {
    "collapsed": false
   },
   "outputs": [
    {
     "data": {
      "image/png": "[encoded data removed]",
      "text/plain": [
       "<matplotlib.figure.Figure at 0x7ff2874c02b0>"
      ]
     },
     "metadata": {},
     "output_type": "display_data"
    }
   ],
   "source": [
    "features_importance[\"importance\"] = features_importance[\"importance\"]/5\n",
    "predictions[\"time_to_failure\"] = predictions[\"time_to_failure\"]/5\n",
    "\n",
    "plt.figure(figsize=(10,25))\n",
    "ax = sns.barplot(x=\"importance\", y=\"features\", data=features_importance.sort_values(by=\"importance\",ascending=False))\n"
   ]
  },
  {
   "cell_type": "code",
   "execution_count": 33,
   "metadata": {
    "collapsed": true
   },
   "outputs": [],
   "source": [
    "predictions.to_csv(\"../submissions/submission_cat_74_scaled.csv\",index=False)"
   ]
  },
  {
   "cell_type": "code",
   "execution_count": 34,
   "metadata": {
    "collapsed": false
   },
   "outputs": [],
   "source": [
    "pd.DataFrame(oof).to_csv(\"../oof/oof_lgb_75_earth.csv\",index=False)"
   ]
  },
  {
   "cell_type": "code",
   "execution_count": 26,
   "metadata": {
    "collapsed": false
   },
   "outputs": [],
   "source": [
    "train_X.to_csv(\"../extracted_feat/train_73.csv\",index=False)\n",
    "train_y.to_csv(\"../extracted_feat/train_y_73.csv\",index=False)"
   ]
  },
  {
   "cell_type": "code",
   "execution_count": 36,
   "metadata": {
    "collapsed": true
   },
   "outputs": [],
   "source": [
    "test_df.to_csv(\"../extracted_feat/test_75_earth.csv\",index=False)"
   ]
  },
  {
   "cell_type": "code",
   "execution_count": null,
   "metadata": {
    "collapsed": false
   },
   "outputs": [],
   "source": []
  },
  {
   "cell_type": "code",
   "execution_count": 1,
   "metadata": {
    "collapsed": false
   },
   "outputs": [
    {
     "ename": "NameError",
     "evalue": "name 'train_y' is not defined",
     "output_type": "error",
     "traceback": [
      "\u001b[1;31m---------------------------------------------------------------------------\u001b[0m",
      "\u001b[1;31mNameError\u001b[0m                                 Traceback (most recent call last)",
      "\u001b[1;32m<ipython-input-1-9764657c4be5>\u001b[0m in \u001b[0;36m<module>\u001b[1;34m()\u001b[0m\n\u001b[1;32m----> 1\u001b[1;33m \u001b[0mtrain_y\u001b[0m\u001b[1;33m\u001b[0m\u001b[0m\n\u001b[0m",
      "\u001b[1;31mNameError\u001b[0m: name 'train_y' is not defined"
     ]
    }
   ],
   "source": []
  },
  {
   "cell_type": "code",
   "execution_count": null,
   "metadata": {
    "collapsed": true
   },
   "outputs": [],
   "source": []
  }
 ],
 "metadata": {
  "kernelspec": {
   "display_name": "Python 3",
   "language": "python",
   "name": "python3"
  },
  "language_info": {
   "codemirror_mode": {
    "name": "ipython",
    "version": 3
   },
   "file_extension": ".py",
   "mimetype": "text/x-python",
   "name": "python",
   "nbconvert_exporter": "python",
   "pygments_lexer": "ipython3",
   "version": "3.5.2"
  }
 },
 "nbformat": 4,
 "nbformat_minor": 1
}
